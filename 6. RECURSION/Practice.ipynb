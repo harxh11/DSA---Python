{
 "cells": [
  {
   "cell_type": "code",
   "execution_count": 3,
   "id": "b893e62e",
   "metadata": {},
   "outputs": [
    {
     "name": "stdout",
     "output_type": "stream",
     "text": [
      "a\n"
     ]
    }
   ],
   "source": [
    "dict1 = {\n",
    "    \"2\": \"abs\",\n",
    "    \"3\": \"bcd\"\n",
    "}\n",
    "\n",
    "d = \"23\"\n",
    "print(dict1[d[0]][0])"
   ]
  },
  {
   "cell_type": "code",
   "execution_count": 7,
   "id": "4615cd2b",
   "metadata": {},
   "outputs": [
    {
     "name": "stdout",
     "output_type": "stream",
     "text": [
      "a\n"
     ]
    }
   ],
   "source": [
    "temp = \"ab\"\n",
    "print(temp[:-1])"
   ]
  },
  {
   "cell_type": "code",
   "execution_count": null,
   "id": "cff94a47",
   "metadata": {},
   "outputs": [],
   "source": []
  }
 ],
 "metadata": {
  "kernelspec": {
   "display_name": "Python 3 (ipykernel)",
   "language": "python",
   "name": "python3"
  },
  "language_info": {
   "codemirror_mode": {
    "name": "ipython",
    "version": 3
   },
   "file_extension": ".py",
   "mimetype": "text/x-python",
   "name": "python",
   "nbconvert_exporter": "python",
   "pygments_lexer": "ipython3",
   "version": "3.11.4"
  }
 },
 "nbformat": 4,
 "nbformat_minor": 5
}

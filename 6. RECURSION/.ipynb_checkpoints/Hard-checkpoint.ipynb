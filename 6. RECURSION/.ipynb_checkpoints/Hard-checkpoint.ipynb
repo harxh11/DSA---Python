{
 "cells": [
  {
   "cell_type": "code",
   "execution_count": 30,
   "id": "689cfece",
   "metadata": {},
   "outputs": [
    {
     "name": "stdout",
     "output_type": "stream",
     "text": [
      "True\n"
     ]
    }
   ],
   "source": [
    "# n - queens\n",
    "def isSafe(board, n, m):\n",
    "    for i in range(len(board)):\n",
    "        if i != n:\n",
    "            if board[i][m] == 'Q':\n",
    "                return False\n",
    "        if i != m:\n",
    "            if board[n][i] == 'Q':\n",
    "                return False\n",
    "            \n",
    "    k = n\n",
    "    l = m\n",
    "    while k <= len(board) - 2 and l <= len(board) - 2:\n",
    "        if board[k + 1][l + 1] == 'Q':\n",
    "            return False\n",
    "        k += 1\n",
    "        l += 1\n",
    "    k = n\n",
    "    l = m\n",
    "    while k > 0 and l > 0:\n",
    "        if board[k - 1][l - 1] == 'Q':\n",
    "            return False\n",
    "        k -= 1\n",
    "        l-= 1\n",
    "    return True\n",
    "\n",
    "\n",
    "def nQueens(self, board, n, ans):\n",
    "    if n <= 0:\n",
    "        ans.append(board)\n",
    "        return\n",
    "\n",
    "    for i in range(len(board)):\n",
    "        for j in range(len(board)):\n",
    "            if board[i][j]:\n",
    "                board[i] = board[i][:j] + 'Q' + board[i][j + 1:]\n",
    "                nQueens(board, n - 1, ans)\n",
    "                board[i] = board[i][:j] + '.' + board[i][j + 1:]\n",
    "\n",
    "                \n",
    "if __name__ == '__main__':\n",
    "    board = [\"....\",\n",
    "             \"....\",\n",
    "             \"....\",\n",
    "             \"....\"]\n",
    "    print(isSafe(board, 0,0))"
   ]
  },
  {
   "cell_type": "code",
   "execution_count": 31,
   "id": "8b5d6011",
   "metadata": {},
   "outputs": [
    {
     "name": "stdout",
     "output_type": "stream",
     "text": [
      "['....', '..Q.', '....', '....']\n",
      "0 0\n",
      "0 0 Safe\n",
      "0 1\n",
      "0 2\n",
      "0 3\n",
      "Upper RIght\n"
     ]
    },
    {
     "ename": "IndexError",
     "evalue": "string index out of range",
     "output_type": "error",
     "traceback": [
      "\u001b[1;31m---------------------------------------------------------------------------\u001b[0m",
      "\u001b[1;31mIndexError\u001b[0m                                Traceback (most recent call last)",
      "Cell \u001b[1;32mIn[31], line 67\u001b[0m\n\u001b[0;32m     62\u001b[0m board \u001b[38;5;241m=\u001b[39m [\u001b[38;5;124m\"\u001b[39m\u001b[38;5;124m....\u001b[39m\u001b[38;5;124m\"\u001b[39m,\n\u001b[0;32m     63\u001b[0m          \u001b[38;5;124m\"\u001b[39m\u001b[38;5;124m..Q.\u001b[39m\u001b[38;5;124m\"\u001b[39m,\n\u001b[0;32m     64\u001b[0m          \u001b[38;5;124m\"\u001b[39m\u001b[38;5;124m....\u001b[39m\u001b[38;5;124m\"\u001b[39m,\n\u001b[0;32m     65\u001b[0m          \u001b[38;5;124m\"\u001b[39m\u001b[38;5;124m....\u001b[39m\u001b[38;5;124m\"\u001b[39m]\n\u001b[0;32m     66\u001b[0m ans \u001b[38;5;241m=\u001b[39m []\n\u001b[1;32m---> 67\u001b[0m \u001b[43mnQueens\u001b[49m\u001b[43m(\u001b[49m\u001b[43mboard\u001b[49m\u001b[43m,\u001b[49m\u001b[43m \u001b[49m\u001b[38;5;241;43m0\u001b[39;49m\u001b[43m,\u001b[49m\u001b[43m \u001b[49m\u001b[43mans\u001b[49m\u001b[43m,\u001b[49m\u001b[43m \u001b[49m\u001b[43mn\u001b[49m\u001b[43m)\u001b[49m\n",
      "Cell \u001b[1;32mIn[31], line 53\u001b[0m, in \u001b[0;36mnQueens\u001b[1;34m(board, it, ans, n)\u001b[0m\n\u001b[0;32m     51\u001b[0m \u001b[38;5;28;01mfor\u001b[39;00m j \u001b[38;5;129;01min\u001b[39;00m \u001b[38;5;28mrange\u001b[39m(\u001b[38;5;28mlen\u001b[39m(board)):\n\u001b[0;32m     52\u001b[0m     \u001b[38;5;28mprint\u001b[39m(i, j)\n\u001b[1;32m---> 53\u001b[0m     \u001b[38;5;28;01mif\u001b[39;00m \u001b[43misSafe\u001b[49m\u001b[43m(\u001b[49m\u001b[43mi\u001b[49m\u001b[43m,\u001b[49m\u001b[43m \u001b[49m\u001b[43mj\u001b[49m\u001b[43m,\u001b[49m\u001b[43m \u001b[49m\u001b[43mboard\u001b[49m\u001b[43m,\u001b[49m\u001b[43m \u001b[49m\u001b[43mn\u001b[49m\u001b[43m)\u001b[49m \u001b[38;5;241m==\u001b[39m \u001b[38;5;28;01mTrue\u001b[39;00m:\n\u001b[0;32m     54\u001b[0m         \u001b[38;5;28mprint\u001b[39m(i, j, \u001b[38;5;124m\"\u001b[39m\u001b[38;5;124mSafe\u001b[39m\u001b[38;5;124m\"\u001b[39m)\n",
      "Cell \u001b[1;32mIn[31], line 37\u001b[0m, in \u001b[0;36misSafe\u001b[1;34m(n, m, board, p)\u001b[0m\n\u001b[0;32m     35\u001b[0m \u001b[38;5;28;01mwhile\u001b[39;00m k \u001b[38;5;241m<\u001b[39m\u001b[38;5;241m=\u001b[39m \u001b[38;5;28mlen\u001b[39m(board) \u001b[38;5;241m-\u001b[39m \u001b[38;5;241m2\u001b[39m \u001b[38;5;129;01mand\u001b[39;00m l \u001b[38;5;241m>\u001b[39m \u001b[38;5;241m0\u001b[39m:\n\u001b[0;32m     36\u001b[0m     \u001b[38;5;28mprint\u001b[39m(\u001b[38;5;124m\"\u001b[39m\u001b[38;5;124mUpper RIght\u001b[39m\u001b[38;5;124m\"\u001b[39m)\n\u001b[1;32m---> 37\u001b[0m     \u001b[38;5;28;01mif\u001b[39;00m \u001b[43mboard\u001b[49m\u001b[43m[\u001b[49m\u001b[43mk\u001b[49m\u001b[43m \u001b[49m\u001b[38;5;241;43m-\u001b[39;49m\u001b[43m \u001b[49m\u001b[38;5;241;43m1\u001b[39;49m\u001b[43m]\u001b[49m\u001b[43m[\u001b[49m\u001b[43ml\u001b[49m\u001b[43m \u001b[49m\u001b[38;5;241;43m+\u001b[39;49m\u001b[43m \u001b[49m\u001b[38;5;241;43m1\u001b[39;49m\u001b[43m]\u001b[49m \u001b[38;5;241m==\u001b[39m \u001b[38;5;124m'\u001b[39m\u001b[38;5;124mQ\u001b[39m\u001b[38;5;124m'\u001b[39m:\n\u001b[0;32m     38\u001b[0m         \u001b[38;5;28;01mreturn\u001b[39;00m \u001b[38;5;28;01mFalse\u001b[39;00m\n\u001b[0;32m     39\u001b[0m     k \u001b[38;5;241m-\u001b[39m\u001b[38;5;241m=\u001b[39m \u001b[38;5;241m1\u001b[39m\n",
      "\u001b[1;31mIndexError\u001b[0m: string index out of range"
     ]
    }
   ],
   "source": [
    "# n - queens\n",
    "def isSafe(n, m, board, p):\n",
    "    for i in range(len(board)):\n",
    "        if board[i][m] == 'Q':\n",
    "            return False\n",
    "        if board[n][i] == 'Q':\n",
    "            return False\n",
    "            \n",
    "    k = n\n",
    "    l = m\n",
    "    while k <= len(board) - 2 and l <= len(board) - 2:\n",
    "        if board[k + 1][l + 1] == 'Q':\n",
    "            return False\n",
    "        k += 1\n",
    "        l += 1\n",
    "    k = n\n",
    "    l = m\n",
    "    while k > 0 and l > 0:\n",
    "        if board[k][l] == 'Q':\n",
    "            return False\n",
    "        k -= 1\n",
    "        l-= 1\n",
    "        \n",
    "    k = n\n",
    "    l = m\n",
    "    while k > 0 and l <= len(board) - 2:\n",
    "        if board[k + 1][l - 1] == 'Q':\n",
    "            return False\n",
    "        k += 1\n",
    "        l -= 1\n",
    "        \n",
    "    k = n\n",
    "    l = m\n",
    "    \n",
    "    while k <= len(board) - 2 and l > 0:\n",
    "        print(\"Upper RIght\")\n",
    "        if board[k - 1][l + 1] == 'Q':\n",
    "            return False\n",
    "        k -= 1\n",
    "        l += 1\n",
    "        \n",
    "    return True\n",
    "\n",
    "\n",
    "def nQueens(board, it, ans, n):\n",
    "#     if it == n:\n",
    "#         ans.append(board)\n",
    "#         return\n",
    "    print(board)\n",
    "    for i in range(len(board)):\n",
    "        for j in range(len(board)):\n",
    "            print(i, j)\n",
    "            if isSafe(i, j, board, n) == True:\n",
    "                print(i, j, \"Safe\")\n",
    "#                 board[i] = board[i][:j] + 'Q' + board[i][j + 1:]\n",
    "#                 nQueens(board, it + 1, ans, n)\n",
    "#                 board[i] = board[i][:j] + '.' + board[i][j + 1:]\n",
    "\n",
    "                \n",
    "if __name__ == '__main__':\n",
    "    n = 4\n",
    "    board = [\"....\",\n",
    "             \"..Q.\",\n",
    "             \"....\",\n",
    "             \"....\"]\n",
    "    ans = []\n",
    "    nQueens(board, 0, ans, n)"
   ]
  },
  {
   "cell_type": "code",
   "execution_count": null,
   "id": "61ee4349",
   "metadata": {},
   "outputs": [],
   "source": []
  }
 ],
 "metadata": {
  "kernelspec": {
   "display_name": "Python 3 (ipykernel)",
   "language": "python",
   "name": "python3"
  },
  "language_info": {
   "codemirror_mode": {
    "name": "ipython",
    "version": 3
   },
   "file_extension": ".py",
   "mimetype": "text/x-python",
   "name": "python",
   "nbconvert_exporter": "python",
   "pygments_lexer": "ipython3",
   "version": "3.11.4"
  }
 },
 "nbformat": 4,
 "nbformat_minor": 5
}

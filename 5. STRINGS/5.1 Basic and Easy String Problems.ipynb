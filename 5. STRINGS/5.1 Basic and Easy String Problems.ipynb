{
 "cells": [
  {
   "cell_type": "code",
   "execution_count": 10,
   "id": "e76b8a1e",
   "metadata": {},
   "outputs": [
    {
     "name": "stdout",
     "output_type": "stream",
     "text": [
      "['', 'day', 'good', 'a', 'is', 'it', 'there', 'Hello', '']\n",
      "day good a is it there Hello \n"
     ]
    }
   ],
   "source": [
    "# Reverse words in a string\n",
    "\n",
    "\"\"\" LEETCODE Q-151. MEDIUM \"\"\"\n",
    "\n",
    "# Naive Approach\n",
    "\n",
    "a = \" Hello there it is a good day \"\n",
    "ans = a.split(\" \")\n",
    "ans.reverse()\n",
    "str1 = \"\"\n",
    "print(ans)\n",
    "for i in range(len(ans)):\n",
    "    if len(ans[i]) == 0:\n",
    "        continue\n",
    "    elif i == len(ans) - 1:\n",
    "        str1 += ans[i]\n",
    "    else:\n",
    "        str1 += ans[i]\n",
    "        str1 += \" \"\n",
    "print(str1)"
   ]
  },
  {
   "cell_type": "code",
   "execution_count": 21,
   "id": "b81c76f7",
   "metadata": {},
   "outputs": [
    {
     "name": "stdout",
     "output_type": "stream",
     "text": [
      "EPY2giL \n"
     ]
    }
   ],
   "source": [
    "# Reverse words in a string\n",
    "\n",
    "\"\"\" LEETCODE Q-151. MEDIUM \"\"\"\n",
    "\n",
    "# Optimal Approach\n",
    "\n",
    "\n",
    "s = \"EPY2giL\"\n",
    "\n",
    "ans = \"\"\n",
    "l = []\n",
    "sub = \"\"\n",
    "for i in range(len(s)):\n",
    "    if s[i] != \" \":\n",
    "        sub += s[i]\n",
    "    else:\n",
    "        if len(sub) > 0:\n",
    "            if len(ans) == 0:\n",
    "                ans += sub\n",
    "            else:\n",
    "                ans = sub + \" \" + ans\n",
    "            sub = \"\"\n",
    "        else:\n",
    "            sub = \"\"\n",
    "if len(sub) > 0:\n",
    "    if len(ans) == 0:\n",
    "        ans += sub\n",
    "    else:\n",
    "        ans = sub + \" \" + ans\n",
    "print(ans)\n",
    "# print(l)\n",
    "# l.reverse()\n",
    "# for i in range(len(l)):\n",
    "#     if i == len(l) - 1:\n",
    "#         ans += l[i]\n",
    "#     else:\n",
    "#         ans += l[i] + \" \""
   ]
  },
  {
   "cell_type": "code",
   "execution_count": 18,
   "id": "8f85d87b",
   "metadata": {
    "scrolled": true
   },
   "outputs": [
    {
     "name": "stdout",
     "output_type": "stream",
     "text": [
      "goodhello there\n"
     ]
    }
   ],
   "source": []
  },
  {
   "cell_type": "code",
   "execution_count": 33,
   "id": "66e709cb",
   "metadata": {},
   "outputs": [
    {
     "name": "stdout",
     "output_type": "stream",
     "text": [
      "7\n"
     ]
    }
   ],
   "source": [
    "# Largest Odd number in string\n",
    "\n",
    "\"\"\" LEETCODE Q-1903. EASY \"\"\"\n",
    "\n",
    "num = \"5270\"\n",
    "\n",
    "if int(num) % 2 == 1:\n",
    "    print(num)\n",
    "    \n",
    "ans = 0\n",
    "p = \"\"\n",
    "for i in range(len(num)):\n",
    "    if int(num[i]) % 2 == 1:\n",
    "        p += num[i]\n",
    "        if int(p) > ans:\n",
    "            ans = int(p)\n",
    "    else:\n",
    "        p = \"\"\n",
    "if ans == 0:\n",
    "    print(\"\")\n",
    "else:\n",
    "    print(str(ans))"
   ]
  },
  {
   "cell_type": "code",
   "execution_count": 45,
   "id": "c1649c0b",
   "metadata": {},
   "outputs": [
    {
     "name": "stdout",
     "output_type": "stream",
     "text": [
      "5\n"
     ]
    }
   ],
   "source": [
    "# Largest Odd number in string\n",
    "\n",
    "\"\"\" LEETCODE Q-1903. EASY \"\"\"\n",
    "\n",
    "num = \"5\"\n",
    "\n",
    "l = 0\n",
    "r = len(num) - 1\n",
    "ans = 0\n",
    "\n",
    "while int(num[l]) == 0 and l < len(num):\n",
    "    l += 1\n",
    "while int(num[r]) % 2 == 0 and r > 0:\n",
    "    r -= 1\n",
    "\n",
    "print(num[l:r + 1])"
   ]
  },
  {
   "cell_type": "code",
   "execution_count": 4,
   "id": "930308cd",
   "metadata": {},
   "outputs": [
    {
     "name": "stdout",
     "output_type": "stream",
     "text": [
      "()()()()()(())()\n"
     ]
    }
   ],
   "source": [
    "# Remove Outermost Paranthesis\n",
    "\n",
    "\"\"\" LEETCODE Q-1021. EASY \"\"\"\n",
    "\n",
    "s = \"(()())(())(()(()))\"\n",
    "\n",
    "n = 0\n",
    "substr = \"\"\n",
    "i = 0\n",
    "while i < len(s):\n",
    "    if s[i] == \"(\":\n",
    "        n += 1\n",
    "    else:\n",
    "        n -= 1\n",
    "    if n > 1:\n",
    "        while \n",
    "print(substr)"
   ]
  },
  {
   "cell_type": "code",
   "execution_count": 11,
   "id": "24b02b49",
   "metadata": {},
   "outputs": [
    {
     "name": "stdout",
     "output_type": "stream",
     "text": [
      "False\n"
     ]
    }
   ],
   "source": [
    "# Valid Anagram\n",
    "\n",
    "\"\"\" LEETCODE Q-252. EASY \"\"\"\n",
    "\n",
    "s = \"anagram\"\n",
    "t = 'gramaaa'\n",
    "\n",
    "s1 = list(s)\n",
    "s1.sort()\n",
    "t1 = list(t)\n",
    "t1.sort()\n",
    "print(s1 == t1)"
   ]
  },
  {
   "cell_type": "code",
   "execution_count": null,
   "id": "72c1556f",
   "metadata": {},
   "outputs": [],
   "source": []
  }
 ],
 "metadata": {
  "kernelspec": {
   "display_name": "Python 3 (ipykernel)",
   "language": "python",
   "name": "python3"
  },
  "language_info": {
   "codemirror_mode": {
    "name": "ipython",
    "version": 3
   },
   "file_extension": ".py",
   "mimetype": "text/x-python",
   "name": "python",
   "nbconvert_exporter": "python",
   "pygments_lexer": "ipython3",
   "version": "3.11.4"
  }
 },
 "nbformat": 4,
 "nbformat_minor": 5
}

{
 "cells": [
  {
   "cell_type": "code",
   "execution_count": 39,
   "id": "0cf91734",
   "metadata": {},
   "outputs": [
    {
     "name": "stdout",
     "output_type": "stream",
     "text": [
      "Pal [1, 2, 3, 2, 1] 0\n",
      "Pal [1, 2, 1] 3\n",
      "Pal [1, 1] 2\n",
      "Pal [1] 1\n",
      "Pal [2, 3, 2] 3\n",
      "Pal [2, 2] 2\n",
      "Pal [2] 1\n",
      "Pal [3] 1\n",
      "Pal [2] 1\n",
      "Pal [1] 1\n",
      "Pal [4] 1\n",
      "Pal [] 0\n",
      "[]\n"
     ]
    }
   ],
   "source": [
    "# Printing all possible subsequences\n",
    "\"\"\" \n",
    "Subsequence is basically similar to subarray the only difference being that a subsequence can conatain elements that\n",
    "        are non continuous, like in subarray.\n",
    "        \n",
    "There are basically 2 approaches to print all possible subsequences..\n",
    "        1. Recursion\n",
    "        2. Power Set\n",
    "    \n",
    "1. Recursion:\n",
    "    simply an approach where we basically write all possible subarrays, but with a twist. The twist being that \n",
    "        while creating a subarray for each element we will add two cases- we either consider it or we don't\n",
    "        this helps in getting an possible continuous and non-continuous subsequences. \n",
    "        \"\"\"\n",
    "\n",
    "# a = [1,2,3,4,5,6,7]\n",
    "# i = 0\n",
    "\n",
    "def isPalindrome(l):\n",
    "    a = list(l)\n",
    "    a.reverse()\n",
    "    if a == list(l):\n",
    "        return True\n",
    "    else:\n",
    "        return False\n",
    "\n",
    "def allSubseqences(i, l, arr, ans):\n",
    "    \n",
    "    if i >= len(a) - 1:\n",
    "        if isPalindrome(l):\n",
    "            print(\"Pal\", l, len(ans))\n",
    "            if len(l) > len(ans):\n",
    "                ans = l\n",
    "        return ans\n",
    "\n",
    "    l.append(arr[i])\n",
    "    ans = allSubseqences(i + 1, l, arr, ans)\n",
    "    l.remove(arr[i])\n",
    "    ans = allSubseqences(i + 1, l, arr, ans)\n",
    "\n",
    "    return ans\n",
    "\n",
    "if __name__ == \"__main__\":\n",
    "    l = [1,2,3,2,1,4,5,6]\n",
    "    print((allSubseqences(0, [], l, [])))"
   ]
  },
  {
   "cell_type": "raw",
   "id": "bb18170c",
   "metadata": {},
   "source": []
  },
  {
   "cell_type": "code",
   "execution_count": 2,
   "id": "ba047393",
   "metadata": {},
   "outputs": [
    {
     "name": "stdout",
     "output_type": "stream",
     "text": [
      "[1, 2, 3, 4]\n"
     ]
    }
   ],
   "source": [
    "l = [1,2,3,4,5]\n",
    "l.remove(5)\n",
    "print(l)"
   ]
  },
  {
   "cell_type": "code",
   "execution_count": null,
   "id": "6b656036",
   "metadata": {},
   "outputs": [],
   "source": []
  }
 ],
 "metadata": {
  "kernelspec": {
   "display_name": "Python 3 (ipykernel)",
   "language": "python",
   "name": "python3"
  },
  "language_info": {
   "codemirror_mode": {
    "name": "ipython",
    "version": 3
   },
   "file_extension": ".py",
   "mimetype": "text/x-python",
   "name": "python",
   "nbconvert_exporter": "python",
   "pygments_lexer": "ipython3",
   "version": "3.11.4"
  }
 },
 "nbformat": 4,
 "nbformat_minor": 5
}

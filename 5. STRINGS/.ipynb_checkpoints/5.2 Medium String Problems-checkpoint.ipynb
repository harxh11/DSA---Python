{
 "cells": [
  {
   "cell_type": "code",
   "execution_count": 37,
   "id": "7834a62d",
   "metadata": {},
   "outputs": [
    {
     "name": "stdout",
     "output_type": "stream",
     "text": [
      "[1, 0, 0, 0, 0, 0, 0, 0, 0, 0, 0, 0, 0, 0, 0, 0, 0, 0, 0, 0, 0, 0, 0, 0, 0, 0, 0, 0, 0, 0, 0, 0, 1, 2, 0, 0, 0, 0, 0, 0, 0, 0, 0, 0, 0, 0, 0, 0, 0, 0, 0, 0, 0, 0, 0, 0, 0]\n",
      "[[1, 65], [1, 97], [2, 98]] Aabb\n"
     ]
    }
   ],
   "source": [
    "\n",
    "s = \"Aabb\"\n",
    "a = [0] * 122\n",
    "\n",
    "for i in s:\n",
    "    a[ord(i)] += 1\n",
    "print(a[65:122])\n",
    "\n",
    "\n",
    "l = []\n",
    "for i in range(len(a)):\n",
    "    if a[i] > 0:\n",
    "        l.append([a[i], i])\n",
    "l.sort()\n",
    "l.reverse()\n",
    "ans = \"\"\n",
    "for i in range(len(l)):\n",
    "    ans += l[i][0] * chr(l[i][1])\n",
    "print(ans)"
   ]
  },
  {
   "cell_type": "code",
   "execution_count": 48,
   "id": "791b0121",
   "metadata": {},
   "outputs": [
    {
     "name": "stdout",
     "output_type": "stream",
     "text": [
      "0\n",
      "1\n",
      "2\n",
      "3\n",
      "4\n",
      "5\n",
      "6\n",
      "7\n",
      "8\n",
      "9\n"
     ]
    }
   ],
   "source": [
    "for i in range(10):\n",
    "    print(chr(48 + i))"
   ]
  },
  {
   "cell_type": "code",
   "execution_count": 46,
   "id": "9ec2263c",
   "metadata": {},
   "outputs": [
    {
     "data": {
      "text/plain": [
       "32"
      ]
     },
     "execution_count": 46,
     "metadata": {},
     "output_type": "execute_result"
    }
   ],
   "source": [
    "int(\"0032\")"
   ]
  },
  {
   "cell_type": "code",
   "execution_count": 51,
   "id": "9da927d2",
   "metadata": {},
   "outputs": [
    {
     "data": {
      "text/plain": [
       "0"
      ]
     },
     "execution_count": 51,
     "metadata": {},
     "output_type": "execute_result"
    }
   ],
   "source": [
    "0%2"
   ]
  },
  {
   "cell_type": "code",
   "execution_count": null,
   "id": "c18be431",
   "metadata": {},
   "outputs": [],
   "source": [
    "# String to Integer (ATOI)\n",
    "\n",
    "\"\"\" LEETCODE Q-8. MEDIUM \"\"\"\n",
    "def myAtoi(s):\n",
    "    ans = 0\n",
    "    sign = 0\n",
    "    check = True\n",
    "    signCheck = True\n",
    "    i = 0\n",
    "    while check == True and i < len(s):\n",
    "\n",
    "        if s[i] == \" \":\n",
    "            if signCheck == False:\n",
    "                check = False\n",
    "            i += 1\n",
    "        elif ord(s[i]) >= 48 and ord(s[i]) <= 57:\n",
    "            ans = ans*10 + int(s[i])\n",
    "            signCheck = False\n",
    "            i += 1\n",
    "\n",
    "        elif s[i] == \"-\" or s[i] == \"+\":\n",
    "            if signCheck:\n",
    "                if s[i] == \"-\":\n",
    "                    sign += 1\n",
    "            else:\n",
    "                check = False\n",
    "\n",
    "            signCheck = False\n",
    "            i += 1\n",
    "        else:\n",
    "            check = False\n",
    "            i += 1\n",
    "\n",
    "    if sign%2 == 1:\n",
    "        if -ans > -(2**31):\n",
    "            return(-ans)\n",
    "        else:\n",
    "            return -((2)**31)\n",
    "    else:\n",
    "        if ans < (2**31) - 1:\n",
    "            return(ans)\n",
    "        else:\n",
    "            return 2**31 - 1"
   ]
  }
 ],
 "metadata": {
  "kernelspec": {
   "display_name": "Python 3 (ipykernel)",
   "language": "python",
   "name": "python3"
  },
  "language_info": {
   "codemirror_mode": {
    "name": "ipython",
    "version": 3
   },
   "file_extension": ".py",
   "mimetype": "text/x-python",
   "name": "python",
   "nbconvert_exporter": "python",
   "pygments_lexer": "ipython3",
   "version": "3.11.4"
  }
 },
 "nbformat": 4,
 "nbformat_minor": 5
}

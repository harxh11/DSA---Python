{
 "cells": [
  {
   "cell_type": "code",
   "execution_count": 4,
   "id": "2b4e7ef0",
   "metadata": {},
   "outputs": [
    {
     "name": "stdout",
     "output_type": "stream",
     "text": [
      "Enter a number: 63\n"
     ]
    }
   ],
   "source": [
    "# Find square root of a number in log(n)\n",
    "\n",
    "n = int(input(\"Enter a number: \"))\n",
    "\n",
    "a = []\n",
    "for i in range(2, n // 2):\n",
    "    a.append(i)\n",
    "# print(a)\n",
    "l = 0\n",
    "r = len(a) - 1\n",
    "ans = 0\n",
    "diff = 999999999\n",
    "\n",
    "\n",
    "while l <= r:\n",
    "    mid = (l + r) // 2\n",
    "#     print(mid)\n",
    "    if a[mid]**2 == n:\n",
    "        ans = a[mid]\n",
    "        break\n",
    "    elif a[mid]**2 < n:\n",
    "        if abs(a[mid]**2 - n) < diff:\n",
    "            ans = a[mid]\n",
    "        l = mid + 1\n",
    "    else:\n",
    "        if abs(a[mid]**2 - n) < diff:\n",
    "            ans = a[mid]\n",
    "        r = mid - 1\n",
    "print(ans)"
   ]
  },
  {
   "cell_type": "code",
   "execution_count": 34,
   "id": "b6e785e5",
   "metadata": {},
   "outputs": [
    {
     "name": "stdout",
     "output_type": "stream",
     "text": [
      "8\n",
      "6\n",
      "6\n",
      "6\n",
      "5\n"
     ]
    },
    {
     "data": {
      "text/plain": [
       "30"
      ]
     },
     "execution_count": 34,
     "metadata": {},
     "output_type": "execute_result"
    }
   ],
   "source": [
    "# Koko Eating Bananas\n",
    "\n",
    "\"\"\" LEETCODE Q- MEDIUM \"\"\"\n",
    "\n",
    "import math\n",
    "\n",
    "def minEatingSpeed(piles, h):\n",
    "    l = 0\n",
    "    r = max(piles)\n",
    "    while l <= r:\n",
    "        mid = (l + r)//2\n",
    "        f = 0\n",
    "        ans = 0\n",
    "        for i in range(len(piles)):\n",
    "            ans += math.ceil(piles[i]/mid)\n",
    "        print(ans)\n",
    "        if ans == h:\n",
    "            return mid\n",
    "        if ans > h:\n",
    "            l = mid + 1\n",
    "        else:\n",
    "            r = mid - 1\n",
    "    return -1\n",
    "\n",
    "minEatingSpeed([30,11,23,4,20], 5)"
   ]
  },
  {
   "cell_type": "markdown",
   "id": "0960e1af",
   "metadata": {},
   "source": [
    "# "
   ]
  },
  {
   "cell_type": "code",
   "execution_count": 37,
   "id": "dd67ba0a",
   "metadata": {},
   "outputs": [
    {
     "data": {
      "text/plain": [
       "1"
      ]
     },
     "execution_count": 37,
     "metadata": {},
     "output_type": "execute_result"
    }
   ],
   "source": [
    "math.ceil(3/5)"
   ]
  },
  {
   "cell_type": "code",
   "execution_count": 61,
   "id": "09b48046",
   "metadata": {},
   "outputs": [
    {
     "data": {
      "text/plain": [
       "3"
      ]
     },
     "execution_count": 61,
     "metadata": {},
     "output_type": "execute_result"
    }
   ],
   "source": [
    "# Minimum number of days to make M Bouquets\n",
    "\n",
    "\"\"\" LEETCODE Q-1482. MEDIUM \"\"\"\n",
    "\n",
    "def calculateAns(bloomDay, k, ans):\n",
    "    m = b = l = 0\n",
    "    while l < len(bloomDay):\n",
    "        if bloomDay[l] <= ans:\n",
    "            b += 1\n",
    "            l += 1\n",
    "        else:\n",
    "            l += 1\n",
    "            b = 0\n",
    "        if b == k:\n",
    "            m += 1\n",
    "            b = 0\n",
    "    return m\n",
    "\n",
    "calculateAns([1,10,3,10,2], 1, 6)"
   ]
  },
  {
   "cell_type": "code",
   "execution_count": 27,
   "id": "b3180fe5",
   "metadata": {},
   "outputs": [
    {
     "name": "stdout",
     "output_type": "stream",
     "text": [
      "-1\n",
      "1\n"
     ]
    }
   ],
   "source": [
    "# Find the smallest Divisor given the threshold\n",
    "\n",
    "\"\"\" LEETCODE Q-1283. MEDIUM \"\"\"\n",
    "\n",
    "nums = [21212,10101,12121]\n",
    "threshold = 1000000\n",
    "\n",
    "if len(nums) == threshold:\n",
    "    print(max(nums))\n",
    "\n",
    "if threshold == sum(nums):\n",
    "    print(1)\n",
    "\n",
    "def division(nums, div):\n",
    "    ans = 0\n",
    "    for i in nums:\n",
    "        if i % div == 0:\n",
    "            ans += i//div\n",
    "        else:\n",
    "            ans += i//div + 1\n",
    "    return ans\n",
    "\n",
    "l = 1\n",
    "r = max(nums)\n",
    "ans = 0\n",
    "while l <= r:\n",
    "    mid = (l + r)//2\n",
    "    \n",
    "    if division(nums, mid) <= threshold:\n",
    "        ans = mid\n",
    "        r = mid - 1\n",
    "    else:\n",
    "        l = mid + 1\n",
    "    \n",
    "print(ans)"
   ]
  },
  {
   "cell_type": "code",
   "execution_count": 6,
   "id": "322f3cb6",
   "metadata": {},
   "outputs": [
    {
     "name": "stdout",
     "output_type": "stream",
     "text": [
      "Ans:  2\n",
      "2\n"
     ]
    }
   ],
   "source": [
    "# Capacity to ship packages within D days\n",
    "\n",
    "\"\"\" LEETCODE Q-1011. MEDIUM \"\"\"\n",
    "\n",
    "weights = [1,2,3,1,1]\n",
    "days = 4\n",
    "\n",
    "def totalDays(weights, capacity):\n",
    "    ans = 0\n",
    "    sum1 = 0\n",
    "    for i in weights:\n",
    "        if (sum1 + i) > capacity:\n",
    "            sum1 = i\n",
    "            ans += 1\n",
    "        else:\n",
    "            sum1 += i\n",
    "    return ans + 1\n",
    "\n",
    "l = 1\n",
    "r = sum(weights)\n",
    "ans = 0\n",
    "\n",
    "while l <= r:\n",
    "    mid = (l + r)//2\n",
    "    if totalDays(weights, mid) == days:\n",
    "        ans = mid\n",
    "        print(\"Ans: \", ans)\n",
    "        r = mid - 1\n",
    "    elif totalDays(weights, mid) > days:\n",
    "        l = mid + 1\n",
    "    else:\n",
    "        r = mid - 1\n",
    "print(ans)"
   ]
  },
  {
   "cell_type": "code",
   "execution_count": 12,
   "id": "8a545ae5",
   "metadata": {},
   "outputs": [
    {
     "data": {
      "text/plain": [
       "4"
      ]
     },
     "execution_count": 12,
     "metadata": {},
     "output_type": "execute_result"
    }
   ],
   "source": [
    "def totalDays(weights, capacity):\n",
    "    ans = 0\n",
    "    sum1 = 0\n",
    "    for i in weights:\n",
    "        if (sum1 + i) > capacity:\n",
    "            sum1 = i\n",
    "            ans += 1\n",
    "        else:\n",
    "            sum1 += i\n",
    "    return ans + 1\n",
    "\n",
    "totalDays([1,2,3,1,1], 2)"
   ]
  },
  {
   "cell_type": "code",
   "execution_count": 26,
   "id": "8efa4227",
   "metadata": {},
   "outputs": [
    {
     "name": "stdout",
     "output_type": "stream",
     "text": [
      "1 1 0\n",
      "2 2 0\n",
      "3 3 0\n",
      "4 4 0\n",
      "6\n"
     ]
    }
   ],
   "source": [
    "# Kth Missing Positive Number\n",
    "\n",
    "\"\"\" LEETCODE Q-1539. EASY \"\"\"\n",
    "\n",
    "arr = [1,2,3,4]\n",
    "k = 2\n",
    "\n",
    "l = 0\n",
    "t = 0\n",
    "r = 1\n",
    "ans = []\n",
    "while l < (len(arr)):\n",
    "    \n",
    "    if arr[l] != r:\n",
    "        print(r, t)\n",
    "        ans.append(r)\n",
    "        r += 1\n",
    "        t += 1\n",
    "    else:\n",
    "        print(arr[l],r,t)\n",
    "        l += 1\n",
    "        r += 1\n",
    "\n",
    "if t < k:\n",
    "    for i in range(k - t):\n",
    "        ans.append(r)\n",
    "        r += 1\n",
    "        t += 1\n",
    "print(ans[k - 1])"
   ]
  },
  {
   "cell_type": "code",
   "execution_count": 32,
   "id": "bd7f7438",
   "metadata": {},
   "outputs": [
    {
     "name": "stdout",
     "output_type": "stream",
     "text": [
      "Mid: 7  Calc: 3\n",
      "Left\n",
      "Mid: 3  Calc: 6\n",
      "Right\n",
      "Mid: 5  Calc: 5\n",
      "Satisfies\n",
      "Mid: 6  Calc: 4\n",
      "Left\n",
      "Final Answer:  5\n"
     ]
    }
   ],
   "source": [
    "# Split Array Largest Sum\n",
    "\n",
    "\"\"\" LEETCODE Q-410. HARD \"\"\"\n",
    "\n",
    "arr = [2,3,1,2,4,3]\n",
    "k = 5\n",
    "n = len(arr)\n",
    "if k == 1:\n",
    "    print(\"Final Answer: \", sum(arr))\n",
    "    print(sum(arr))\n",
    "\n",
    "if k == len(arr):\n",
    "    print(\"Final Answer: \", max(arr))\n",
    "    \n",
    "\n",
    "def calcSubArr(arr, largestSum):\n",
    "    sum1 = 0\n",
    "    subArr = 0\n",
    "    i = 0\n",
    "    n = 0\n",
    "    while i < len(arr):\n",
    "        sum1 += arr[i]\n",
    "        if sum1 >= largestSum:\n",
    "            sum1 = arr[i]\n",
    "            subArr += 1\n",
    "            n = i - 1\n",
    "#             print(n)\n",
    "            i += 1\n",
    "        else:\n",
    "            i += 1\n",
    "    if n == len(arr) - 1:\n",
    "        return(subArr)\n",
    "    else:\n",
    "        return subArr + 1\n",
    "l = 0\n",
    "r = sum(arr)\n",
    "ans = 0\n",
    "while l <= r:\n",
    "    mid = (l + r)//2\n",
    "    print(\"Mid:\", mid, \" Calc:\", calcSubArr(arr,mid))\n",
    "    \n",
    "    if calcSubArr(arr,mid) == k:\n",
    "        ans = mid\n",
    "        l = mid + 1\n",
    "        print(\"Satisfies\")\n",
    "    elif calcSubArr(arr,mid) > k:\n",
    "        l = mid + 1\n",
    "        print(\"Right\")\n",
    "    else:\n",
    "        r = mid - 1\n",
    "        print(\"Left\")\n",
    "    \n",
    "        \n",
    "# for i in range(l,r):\n",
    "#     print(\"ans: \", calcSubArr(arr, i),\",  i: \", i)\n",
    "\n",
    "print(\"Final Answer: \", ans)\n"
   ]
  },
  {
   "cell_type": "code",
   "execution_count": 17,
   "id": "d01acaaa",
   "metadata": {},
   "outputs": [
    {
     "data": {
      "text/plain": [
       "23"
      ]
     },
     "execution_count": 17,
     "metadata": {},
     "output_type": "execute_result"
    }
   ],
   "source": [
    "(15 + 31)//2"
   ]
  },
  {
   "cell_type": "code",
   "execution_count": 14,
   "id": "c7f739c7",
   "metadata": {},
   "outputs": [
    {
     "data": {
      "text/plain": [
       "2"
      ]
     },
     "execution_count": 14,
     "metadata": {},
     "output_type": "execute_result"
    }
   ],
   "source": [
    "def calcSubArr(arr, largestSum):\n",
    "    sum1 = arr[0]\n",
    "    subArr = 0\n",
    "    i = 0\n",
    "    while i < len(arr) - 1:\n",
    "        sum1 += arr[i + 1]\n",
    "        if sum1 == largestSum:\n",
    "            subArr += 1\n",
    "            sum1 = 0\n",
    "            i += 1\n",
    "        elif sum1 > largestSum:\n",
    "            sum1 = arr[i + 1]\n",
    "            subArr += 1\n",
    "            i += 1\n",
    "        else:\n",
    "            i += 1\n",
    "\n",
    "#     return(subArr + 1)\n",
    "\n",
    "\n",
    "calcSubArr([7,2,5,10,8], 31)"
   ]
  },
  {
   "cell_type": "code",
   "execution_count": null,
   "id": "22f62ea1",
   "metadata": {},
   "outputs": [],
   "source": []
  }
 ],
 "metadata": {
  "kernelspec": {
   "display_name": "Python 3 (ipykernel)",
   "language": "python",
   "name": "python3"
  },
  "language_info": {
   "codemirror_mode": {
    "name": "ipython",
    "version": 3
   },
   "file_extension": ".py",
   "mimetype": "text/x-python",
   "name": "python",
   "nbconvert_exporter": "python",
   "pygments_lexer": "ipython3",
   "version": "3.11.4"
  }
 },
 "nbformat": 4,
 "nbformat_minor": 5
}

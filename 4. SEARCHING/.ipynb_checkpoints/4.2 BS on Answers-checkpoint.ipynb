{
 "cells": [
  {
   "cell_type": "code",
   "execution_count": 4,
   "id": "2b4e7ef0",
   "metadata": {},
   "outputs": [
    {
     "name": "stdout",
     "output_type": "stream",
     "text": [
      "Enter a number: 63\n"
     ]
    }
   ],
   "source": [
    "# Find square root of a number in log(n)\n",
    "\n",
    "n = int(input(\"Enter a number: \"))\n",
    "\n",
    "a = []\n",
    "for i in range(2, n // 2):\n",
    "    a.append(i)\n",
    "# print(a)\n",
    "l = 0\n",
    "r = len(a) - 1\n",
    "ans = 0\n",
    "diff = 999999999\n",
    "\n",
    "\n",
    "while l <= r:\n",
    "    mid = (l + r) // 2\n",
    "#     print(mid)\n",
    "    if a[mid]**2 == n:\n",
    "        ans = a[mid]\n",
    "        break\n",
    "    elif a[mid]**2 < n:\n",
    "        if abs(a[mid]**2 - n) < diff:\n",
    "            ans = a[mid]\n",
    "        l = mid + 1\n",
    "    else:\n",
    "        if abs(a[mid]**2 - n) < diff:\n",
    "            ans = a[mid]\n",
    "        r = mid - 1\n",
    "print(ans)"
   ]
  },
  {
   "cell_type": "code",
   "execution_count": 34,
   "id": "b6e785e5",
   "metadata": {},
   "outputs": [
    {
     "name": "stdout",
     "output_type": "stream",
     "text": [
      "8\n",
      "6\n",
      "6\n",
      "6\n",
      "5\n"
     ]
    },
    {
     "data": {
      "text/plain": [
       "30"
      ]
     },
     "execution_count": 34,
     "metadata": {},
     "output_type": "execute_result"
    }
   ],
   "source": [
    "# Koko Eating Bananas\n",
    "\n",
    "\"\"\" LEETCODE Q- MEDIUM \"\"\"\n",
    "\n",
    "import math\n",
    "\n",
    "def minEatingSpeed(piles, h):\n",
    "    l = 0\n",
    "    r = max(piles)\n",
    "    while l <= r:\n",
    "        mid = (l + r)//2\n",
    "        f = 0\n",
    "        ans = 0\n",
    "        for i in range(len(piles)):\n",
    "            ans += math.ceil(piles[i]/mid)\n",
    "        print(ans)\n",
    "        if ans == h:\n",
    "            return mid\n",
    "        if ans > h:\n",
    "            l = mid + 1\n",
    "        else:\n",
    "            r = mid - 1\n",
    "    return -1\n",
    "\n",
    "minEatingSpeed([30,11,23,4,20], 5)"
   ]
  },
  {
   "cell_type": "markdown",
   "id": "0960e1af",
   "metadata": {},
   "source": [
    "# "
   ]
  },
  {
   "cell_type": "code",
   "execution_count": 37,
   "id": "9e43f8b0",
   "metadata": {},
   "outputs": [
    {
     "data": {
      "text/plain": [
       "1"
      ]
     },
     "execution_count": 37,
     "metadata": {},
     "output_type": "execute_result"
    }
   ],
   "source": [
    "math.ceil(3/5)"
   ]
  },
  {
   "cell_type": "code",
   "execution_count": null,
   "id": "be2fc779",
   "metadata": {},
   "outputs": [],
   "source": [
    "# Minimum number of days to make M Bouquets\n",
    "\n",
    "\"\"\" LEETCODE Q-1482. MEDIUM \"\"\""
   ]
  }
 ],
 "metadata": {
  "kernelspec": {
   "display_name": "Python 3 (ipykernel)",
   "language": "python",
   "name": "python3"
  },
  "language_info": {
   "codemirror_mode": {
    "name": "ipython",
    "version": 3
   },
   "file_extension": ".py",
   "mimetype": "text/x-python",
   "name": "python",
   "nbconvert_exporter": "python",
   "pygments_lexer": "ipython3",
   "version": "3.11.4"
  }
 },
 "nbformat": 4,
 "nbformat_minor": 5
}

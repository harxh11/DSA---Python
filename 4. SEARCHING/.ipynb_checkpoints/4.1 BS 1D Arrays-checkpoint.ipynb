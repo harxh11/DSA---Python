{
 "cells": [
  {
   "cell_type": "code",
   "execution_count": 1,
   "id": "55b056a0",
   "metadata": {},
   "outputs": [
    {
     "name": "stdout",
     "output_type": "stream",
     "text": [
      "[9]\n",
      "None\n"
     ]
    }
   ],
   "source": [
    "# Binary Search\n",
    "\n",
    "\"\"\" LEETCODE Q-704 EASY \"\"\"\n",
    "\n",
    "target = 9\n",
    "def binary_search(arr,target):\n",
    "    mid_i = len(arr)//2\n",
    "    mid = arr[mid_i]\n",
    "    if len(arr) == 1:\n",
    "        print(arr)\n",
    "        return\n",
    "    if mid > target:\n",
    "        binary_search(arr[:mid_i], target)\n",
    "    else:\n",
    "        binary_search(arr[mid_i:], target)\n",
    "\n",
    "arr = [-1,0,3,5,9,12]\n",
    "print(binary_search(arr, target))"
   ]
  },
  {
   "cell_type": "code",
   "execution_count": 16,
   "id": "1d67e638",
   "metadata": {},
   "outputs": [
    {
     "name": "stdout",
     "output_type": "stream",
     "text": [
      "1\n"
     ]
    }
   ],
   "source": [
    "# Search Insert Position\n",
    "\n",
    "\"\"\" LEETCODE Q-35 EASY \"\"\"\n",
    "\n",
    "# Time Complexity - O(log n)\n",
    "\n",
    "\n",
    "arr = [1,3,5,6]\n",
    "n = len(arr)\n",
    "x = 2\n",
    "low = 0\n",
    "high = n - 1\n",
    "ans = n\n",
    "\n",
    "while low <= high:\n",
    "    mid = (low + high) // 2\n",
    "    \n",
    "    if arr[mid] >= x:\n",
    "        ans = mid\n",
    "        high = mid - 1\n",
    "    else:\n",
    "        low = mid + 1\n",
    "\n",
    "print(ans)"
   ]
  },
  {
   "cell_type": "code",
   "execution_count": 11,
   "id": "5168c385",
   "metadata": {},
   "outputs": [
    {
     "name": "stdout",
     "output_type": "stream",
     "text": [
      "11\n"
     ]
    }
   ],
   "source": [
    "# Lower Bound\n",
    "\n",
    "arr = [1,2,5,7,9,11]\n",
    "x = 10\n",
    "\n",
    "ans = 0\n",
    "l = 0\n",
    "r = len(arr) - 1\n",
    "while l <= r:\n",
    "    mid = (l + r)//2\n",
    "    if arr[mid] >= x:\n",
    "        ans = mid\n",
    "        r = mid - 1\n",
    "    else:\n",
    "        l = mid + 1\n",
    "print(arr[ans])"
   ]
  },
  {
   "cell_type": "code",
   "execution_count": 13,
   "id": "6a4e1f0e",
   "metadata": {},
   "outputs": [
    {
     "name": "stdout",
     "output_type": "stream",
     "text": [
      "2\n"
     ]
    }
   ],
   "source": [
    "# Upper Bound\n",
    "\n",
    "arr = [1,2,5,7,9,11]\n",
    "x = 4\n",
    "\n",
    "ans = 0\n",
    "l = 0\n",
    "r = len(arr) - 1\n",
    "while l <= r:\n",
    "    mid = (l + r)//2\n",
    "    if arr[mid] <= x:\n",
    "        ans = mid\n",
    "        l = mid + 1\n",
    "    else:\n",
    "        r = mid - 1\n",
    "print(arr[ans])"
   ]
  },
  {
   "cell_type": "code",
   "execution_count": null,
   "id": "cc9080cb",
   "metadata": {},
   "outputs": [],
   "source": [
    "# First and Last Occurence of an Element:\n",
    "\n",
    "\"\"\" LEETCODE Q-34 MEDIUM \"\"\"\n",
    "\n",
    "arr = []\n",
    "target = 5\n",
    "\n",
    "n = len(arr)\n",
    "l = 0\n",
    "r = n - 1\n",
    "ans = [-1,-1]\n",
    "\n",
    "while l <= r:\n",
    "    mid = (l + r)//2\n",
    "    if arr[mid] == target:\n",
    "        ans[0] = mid\n",
    "        r = mid - 1\n",
    "    elif arr[mid] < target:\n",
    "        l = mid + 1\n",
    "    else:\n",
    "        r = mid - 1\n",
    "\n",
    "l = 0\n",
    "r = n - 1\n",
    "\n",
    "while l <= r:\n",
    "    mid = (l + r)//2\n",
    "    if arr[mid] == target:\n",
    "        ans[1] = mid\n",
    "        l = mid + 1\n",
    "    elif arr[mid] < target:\n",
    "        l = mid + 1\n",
    "    else:\n",
    "        r = mid - 1\n",
    "\n",
    "print(ans)"
   ]
  },
  {
   "cell_type": "code",
   "execution_count": 43,
   "id": "96e59eea",
   "metadata": {},
   "outputs": [
    {
     "name": "stdout",
     "output_type": "stream",
     "text": [
      "7\n",
      "1\n",
      "2\n",
      "3\n",
      "-1\n"
     ]
    }
   ],
   "source": [
    "\n",
    "# Search Element in Rotated Sorted Array\n",
    "\n",
    "\"\"\" LEETCODE Q-33 MEDIUM \"\"\"\n",
    "\n",
    "arr = [4,5,6,7,8,1,2,3]\n",
    "target = 8\n",
    "\n",
    "n = len(arr)\n",
    "l = 0\n",
    "r = n - 1\n",
    "ans = -1\n",
    "\n",
    "while l <= r:\n",
    "    mid = (l + r) // 2\n",
    "    print(arr[mid])\n",
    "    if arr[mid] == target:\n",
    "        ans = mid\n",
    "        l = r + 1\n",
    "    else:\n",
    "        if arr[l] > arr[r]:\n",
    "            if arr[mid] > target:\n",
    "                if target <= arr[r]:\n",
    "                    l = mid + 1\n",
    "                else:\n",
    "                    r = mid - 1\n",
    "            else:\n",
    "                if target > arr[r]:\n",
    "                    l = mid + 1\n",
    "                else:\n",
    "                    r = mid - 1\n",
    "        else:\n",
    "            if arr[mid] < target:\n",
    "                l = mid + 1\n",
    "            else:\n",
    "                r = mid - 1\n",
    "print(ans)"
   ]
  },
  {
   "cell_type": "code",
   "execution_count": 11,
   "id": "38c63124",
   "metadata": {},
   "outputs": [
    {
     "name": "stdout",
     "output_type": "stream",
     "text": [
      "0\n",
      "Not sorted\n",
      "5\n",
      "Not sorted\n",
      "2\n",
      "sorted\n",
      "False\n"
     ]
    }
   ],
   "source": [
    "nums =[2,5,6,0,0,1,2]\n",
    "target = 7\n",
    "\n",
    "n = len(nums)\n",
    "l = 0\n",
    "r = n - 1\n",
    "ans = False\n",
    "\n",
    "while l <= r:\n",
    "    mid = (l + r)//2\n",
    "    print(nums[mid])\n",
    "    if nums[mid] == target:\n",
    "        ans = True\n",
    "\n",
    "    if nums[mid] < nums[r]:\n",
    "        if target > nums[mid]:\n",
    "            if target > nums[r]:\n",
    "                r = mid - 1\n",
    "            else:\n",
    "                l = mid + 1\n",
    "        else:\n",
    "            if target > nums[r]:\n",
    "                r = mid - 1\n",
    "            else:\n",
    "                l = mid + 1\n",
    "    else:\n",
    "        if target > nums[mid]:\n",
    "            l = mid + 1\n",
    "        else:\n",
    "            r = mid - 1\n",
    "print(ans)"
   ]
  },
  {
   "cell_type": "code",
   "execution_count": 8,
   "id": "49746099",
   "metadata": {},
   "outputs": [
    {
     "name": "stdout",
     "output_type": "stream",
     "text": [
      "2\n",
      "6\n"
     ]
    },
    {
     "data": {
      "text/plain": [
       "[]"
      ]
     },
     "execution_count": 8,
     "metadata": {},
     "output_type": "execute_result"
    }
   ],
   "source": [
    "# Find Peak ELement\n",
    "\n",
    "\"\"\" LEETCODE Q-162. MEDIUM \"\"\"\n",
    "\n",
    "def bspeak(arr, ans):\n",
    "    mid = len(arr)//2\n",
    "    \n",
    "    if mid == 0 or mid == len(arr) - 1:\n",
    "        \n",
    "        return\n",
    "    \n",
    "    if arr[mid] > arr[mid - 1] and arr[mid] > arr[mid + 1]:\n",
    "        print(arr[mid])\n",
    "        return arr[mid]\n",
    "    \n",
    "    bspeak(arr[:mid],ans)\n",
    "    bspeak(arr[mid:],ans)\n",
    "    \n",
    "arr = [1,2,1,3,5,6,4]\n",
    "\n",
    "bspeak(arr, ans=[])\n"
   ]
  },
  {
   "cell_type": "code",
   "execution_count": 1,
   "id": "e8f50215",
   "metadata": {},
   "outputs": [
    {
     "data": {
      "text/plain": [
       "0"
      ]
     },
     "execution_count": 1,
     "metadata": {},
     "output_type": "execute_result"
    }
   ],
   "source": [
    "# Find Peak ELement\n",
    "\n",
    "\"\"\" LEETCODE Q-162. MEDIUM \"\"\"\n",
    "\n"
   ]
  },
  {
   "cell_type": "code",
   "execution_count": null,
   "id": "5bea60c5",
   "metadata": {},
   "outputs": [],
   "source": []
  },
  {
   "cell_type": "code",
   "execution_count": null,
   "id": "dc15bc39",
   "metadata": {},
   "outputs": [],
   "source": []
  },
  {
   "cell_type": "code",
   "execution_count": null,
   "id": "cd019a98",
   "metadata": {},
   "outputs": [],
   "source": []
  },
  {
   "cell_type": "code",
   "execution_count": null,
   "id": "267617b3",
   "metadata": {},
   "outputs": [],
   "source": []
  },
  {
   "cell_type": "code",
   "execution_count": null,
   "id": "43de06eb",
   "metadata": {},
   "outputs": [],
   "source": []
  },
  {
   "cell_type": "code",
   "execution_count": null,
   "id": "6496dfeb",
   "metadata": {},
   "outputs": [],
   "source": []
  },
  {
   "cell_type": "code",
   "execution_count": null,
   "id": "921fa861",
   "metadata": {},
   "outputs": [],
   "source": []
  },
  {
   "cell_type": "code",
   "execution_count": null,
   "id": "eb0bba23",
   "metadata": {},
   "outputs": [],
   "source": []
  },
  {
   "cell_type": "code",
   "execution_count": 8,
   "id": "b840e8b3",
   "metadata": {},
   "outputs": [
    {
     "name": "stdout",
     "output_type": "stream",
     "text": [
      "5\n"
     ]
    }
   ],
   "source": [
    "# Search Insert Position\n",
    "\n",
    "arr = [1,3,5,6,7,10,14]\n",
    "target = 9\n",
    "\n",
    "l = 0\n",
    "r = len(arr) - 1\n",
    "\n",
    "while (l <= r):\n",
    "    mid = (l + r) // 2\n",
    "    if(arr[mid] > target):\n",
    "        r = mid - 1\n",
    "    else:\n",
    "        l = mid + 1\n"
   ]
  },
  {
   "cell_type": "code",
   "execution_count": 15,
   "id": "94bbc883",
   "metadata": {},
   "outputs": [
    {
     "name": "stdout",
     "output_type": "stream",
     "text": [
      "5\n"
     ]
    }
   ],
   "source": [
    "# Lower Bound\n",
    "\n",
    "arr = [1, 2, 5, 7, 9, 11]\n",
    "\n",
    "l = 0\n",
    "r = len(arr) - 1\n",
    "ans = 0\n",
    "target = 10\n",
    "\n",
    "while(l <= r):\n",
    "    mid = (l + r)//2\n",
    "    if(arr[mid]) <= target:\n",
    "        l = mid + 1\n",
    "    else:\n",
    "        ans = mid\n",
    "        r = mid - 1\n",
    "print(ans)"
   ]
  },
  {
   "cell_type": "code",
   "execution_count": null,
   "id": "ad79ffaa",
   "metadata": {},
   "outputs": [],
   "source": [
    "arr = [4,5,6,7,8,1,2,3]\n",
    "\n",
    "l = 0\n",
    "r = len(arr) - 1\n",
    "ans = 0\n",
    "target = 8\n",
    "\n",
    "if(arr[0] < arr[(l + r)//2]):\n",
    "    # left sorted\n",
    "    pass\n",
    "else:\n",
    "    # right sorted"
   ]
  }
 ],
 "metadata": {
  "kernelspec": {
   "display_name": "Python 3 (ipykernel)",
   "language": "python",
   "name": "python3"
  },
  "language_info": {
   "codemirror_mode": {
    "name": "ipython",
    "version": 3
   },
   "file_extension": ".py",
   "mimetype": "text/x-python",
   "name": "python",
   "nbconvert_exporter": "python",
   "pygments_lexer": "ipython3",
   "version": "3.11.4"
  }
 },
 "nbformat": 4,
 "nbformat_minor": 5
}

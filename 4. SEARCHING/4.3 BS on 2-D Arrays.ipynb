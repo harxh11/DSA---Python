{
 "cells": [
  {
   "cell_type": "code",
   "execution_count": 28,
   "id": "a2474692",
   "metadata": {},
   "outputs": [
    {
     "name": "stdout",
     "output_type": "stream",
     "text": [
      "False\n"
     ]
    }
   ],
   "source": [
    "# Search a 2D Matrix\n",
    "\n",
    "\"\"\" LEETCODE Q-74. MEDIUM \"\"\"\n",
    "\n",
    "matrix = [[1]]\n",
    "\n",
    "l = 0\n",
    "r = len(matrix)*len(matrix[0]) - 1\n",
    "target = 2\n",
    "\n",
    "ans = False\n",
    "while l <= r:\n",
    "    mid = (l + r)//2\n",
    "    m = mid//len(matrix[0])\n",
    "    n = mid % len(matrix[0])\n",
    "    if matrix[m][n] == target:\n",
    "        ans = True\n",
    "    \n",
    "    if matrix[m][n] > target:\n",
    "        r = mid - 1\n",
    "    else:\n",
    "        l = mid + 1\n",
    "        \n",
    "print(ans)"
   ]
  },
  {
   "cell_type": "code",
   "execution_count": 24,
   "id": "58675e5e",
   "metadata": {},
   "outputs": [
    {
     "data": {
      "text/plain": [
       "0"
      ]
     },
     "execution_count": 24,
     "metadata": {},
     "output_type": "execute_result"
    }
   ],
   "source": [
    "1//2"
   ]
  },
  {
   "cell_type": "code",
   "execution_count": 26,
   "id": "cb3ae945",
   "metadata": {},
   "outputs": [
    {
     "data": {
      "text/plain": [
       "0"
      ]
     },
     "execution_count": 26,
     "metadata": {},
     "output_type": "execute_result"
    }
   ],
   "source": [
    "0%2"
   ]
  },
  {
   "cell_type": "code",
   "execution_count": null,
   "id": "691da905",
   "metadata": {},
   "outputs": [],
   "source": []
  }
 ],
 "metadata": {
  "kernelspec": {
   "display_name": "Python 3 (ipykernel)",
   "language": "python",
   "name": "python3"
  },
  "language_info": {
   "codemirror_mode": {
    "name": "ipython",
    "version": 3
   },
   "file_extension": ".py",
   "mimetype": "text/x-python",
   "name": "python",
   "nbconvert_exporter": "python",
   "pygments_lexer": "ipython3",
   "version": "3.11.4"
  }
 },
 "nbformat": 4,
 "nbformat_minor": 5
}

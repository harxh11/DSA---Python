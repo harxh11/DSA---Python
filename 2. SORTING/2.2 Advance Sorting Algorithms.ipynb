{
 "cells": [
  {
   "cell_type": "markdown",
   "id": "b063b3d3",
   "metadata": {},
   "source": [
    "# Advance Sorting Algorithms"
   ]
  },
  {
   "cell_type": "code",
   "execution_count": 1,
   "id": "49f763dc",
   "metadata": {},
   "outputs": [],
   "source": [
    "# Merge Sort\n",
    "# Quick Sort\n",
    "# Recursive Selection Sort -- DONE\n",
    "# Recursive Bubble Sort \n",
    "# Recursive Insertion Sort"
   ]
  },
  {
   "cell_type": "code",
   "execution_count": 9,
   "id": "2f0208d2",
   "metadata": {},
   "outputs": [
    {
     "name": "stdout",
     "output_type": "stream",
     "text": [
      "[1, 2, 2, 3, 4, 5, 7, 8]\n"
     ]
    }
   ],
   "source": [
    "# Merge Sort: \n",
    "\n",
    "def merge(l1, l2):\n",
    "    i = 0\n",
    "    j = 0\n",
    "    ans = []\n",
    "    while i < len(l1) and j < len(l2):\n",
    "        if l1[i] < l2[j]:\n",
    "            ans.append(l1[i])\n",
    "            i += 1\n",
    "        else:\n",
    "            ans.append(l2[j])\n",
    "            j += 1\n",
    "    \n",
    "    while i < len(l1):\n",
    "        ans.append(l1[i])\n",
    "        i += 1\n",
    "    while j < len(l2):\n",
    "        ans.append(l2[j])\n",
    "        j += 1\n",
    "    \n",
    "    return ans\n",
    "\n",
    "\n",
    "def mergeSort(arr):\n",
    "    \n",
    "    if len(arr) == 1:\n",
    "        return arr\n",
    "    \n",
    "    mid = len(arr)//2\n",
    "    left = mergeSort(arr[:mid])\n",
    "    right = mergeSort(arr[mid:])\n",
    "    \n",
    "    return merge(left, right)\n",
    "\n",
    "l1 = [1,4,2,5,7,3,8,2]\n",
    "\n",
    "print(mergeSort(l1))"
   ]
  },
  {
   "cell_type": "code",
   "execution_count": null,
   "id": "27be7b48",
   "metadata": {},
   "outputs": [],
   "source": []
  },
  {
   "cell_type": "code",
   "execution_count": 16,
   "id": "a94cde29",
   "metadata": {},
   "outputs": [
    {
     "name": "stdout",
     "output_type": "stream",
     "text": [
      "[1, 2, 2, 3, 4, 5, 7, 8]\n"
     ]
    }
   ],
   "source": [
    "\n",
    "# Recursive Bubble Sort\n",
    "\n",
    "\"\"\" similar to iterative method the only difference being that we perform the second iterattion for finding the maximum number,\n",
    "        but repeat the first iteration recursively for n - 1 elements instead of all n elements....\"\"\"\n",
    "\n",
    "def bubbleSort(arr, n):\n",
    "    if n == 0:\n",
    "        print(arr)\n",
    "        return \n",
    "    \n",
    "    for i in range(n - 1):\n",
    "        if arr[i] > arr[i + 1]:\n",
    "            arr[i], arr[i + 1] = arr[i+ 1], arr[i]\n",
    "        \n",
    "    bubbleSort(arr, n - 1)\n",
    "\n",
    "\n",
    "l1 = [1,4,2,5,7,3,8,2]\n",
    "\n",
    "bubbleSort(l1, len(l1))\n"
   ]
  },
  {
   "cell_type": "code",
   "execution_count": 18,
   "id": "8edd5e6f",
   "metadata": {},
   "outputs": [
    {
     "data": {
      "text/plain": [
       "2"
      ]
     },
     "execution_count": 18,
     "metadata": {},
     "output_type": "execute_result"
    }
   ],
   "source": [
    "5//2"
   ]
  },
  {
   "cell_type": "code",
   "execution_count": 25,
   "id": "11f3b208",
   "metadata": {},
   "outputs": [
    {
     "ename": "TypeError",
     "evalue": "'int' object is not iterable",
     "output_type": "error",
     "traceback": [
      "\u001b[1;31m---------------------------------------------------------------------------\u001b[0m",
      "\u001b[1;31mTypeError\u001b[0m                                 Traceback (most recent call last)",
      "Cell \u001b[1;32mIn[25], line 37\u001b[0m\n\u001b[0;32m     33\u001b[0m     \u001b[38;5;28;01mreturn\u001b[39;00m arr\n\u001b[0;32m     35\u001b[0m l1 \u001b[38;5;241m=\u001b[39m [\u001b[38;5;241m2\u001b[39m,\u001b[38;5;241m4\u001b[39m,\u001b[38;5;241m2\u001b[39m,\u001b[38;5;241m6\u001b[39m,\u001b[38;5;241m8\u001b[39m,\u001b[38;5;241m3\u001b[39m,\u001b[38;5;241m9\u001b[39m,\u001b[38;5;241m1\u001b[39m,\u001b[38;5;241m5\u001b[39m]\n\u001b[1;32m---> 37\u001b[0m \u001b[38;5;28mprint\u001b[39m(\u001b[43mmergeSort\u001b[49m\u001b[43m(\u001b[49m\u001b[43ml1\u001b[49m\u001b[43m,\u001b[49m\u001b[43m \u001b[49m\u001b[38;5;241;43m2\u001b[39;49m\u001b[43m,\u001b[49m\u001b[43m \u001b[49m\u001b[38;5;241;43m7\u001b[39;49m\u001b[43m)\u001b[49m)\n",
      "Cell \u001b[1;32mIn[25], line 27\u001b[0m, in \u001b[0;36mmergeSort\u001b[1;34m(arr, l, r)\u001b[0m\n\u001b[0;32m     24\u001b[0m     \u001b[38;5;28;01mreturn\u001b[39;00m arr\n\u001b[0;32m     26\u001b[0m mid \u001b[38;5;241m=\u001b[39m l \u001b[38;5;241m+\u001b[39m (r \u001b[38;5;241m-\u001b[39m l) \u001b[38;5;241m/\u001b[39m\u001b[38;5;241m/\u001b[39m \u001b[38;5;241m2\u001b[39m\n\u001b[1;32m---> 27\u001b[0m left \u001b[38;5;241m=\u001b[39m \u001b[43mmergeSort\u001b[49m\u001b[43m(\u001b[49m\u001b[43marr\u001b[49m\u001b[43m,\u001b[49m\u001b[43m \u001b[49m\u001b[43ml\u001b[49m\u001b[43m,\u001b[49m\u001b[43m \u001b[49m\u001b[43mmid\u001b[49m\u001b[43m)\u001b[49m\n\u001b[0;32m     28\u001b[0m right \u001b[38;5;241m=\u001b[39m mergeSort(arr, mid \u001b[38;5;241m+\u001b[39m \u001b[38;5;241m1\u001b[39m, r)\n\u001b[0;32m     30\u001b[0m ans \u001b[38;5;241m=\u001b[39m merge(left, right)\n",
      "Cell \u001b[1;32mIn[25], line 31\u001b[0m, in \u001b[0;36mmergeSort\u001b[1;34m(arr, l, r)\u001b[0m\n\u001b[0;32m     28\u001b[0m right \u001b[38;5;241m=\u001b[39m mergeSort(arr, mid \u001b[38;5;241m+\u001b[39m \u001b[38;5;241m1\u001b[39m, r)\n\u001b[0;32m     30\u001b[0m ans \u001b[38;5;241m=\u001b[39m merge(left, right)\n\u001b[1;32m---> 31\u001b[0m \u001b[38;5;28;01mfor\u001b[39;00m i \u001b[38;5;129;01min\u001b[39;00m \u001b[38;5;28mlen\u001b[39m(ans):\n\u001b[0;32m     32\u001b[0m     arr[l \u001b[38;5;241m+\u001b[39m i] \u001b[38;5;241m=\u001b[39m ans[i]\n\u001b[0;32m     33\u001b[0m \u001b[38;5;28;01mreturn\u001b[39;00m arr\n",
      "\u001b[1;31mTypeError\u001b[0m: 'int' object is not iterable"
     ]
    }
   ],
   "source": [
    "def merge(l1, l2):\n",
    "    i = 0\n",
    "    j = 0\n",
    "    ans = []\n",
    "    while i < len(l1) and j < len(l2):\n",
    "        if l1[i] < l2[j]:\n",
    "            ans.append(l1[i])\n",
    "            i += 1\n",
    "        else:\n",
    "            ans.append(l2[j])\n",
    "            j += 1\n",
    "    \n",
    "    while i < len(l1):\n",
    "        ans.append(l1[i])\n",
    "        i += 1\n",
    "    while j < len(l2):\n",
    "        ans.append(l2[j])\n",
    "        j += 1\n",
    "    \n",
    "    return ans\n",
    "\n",
    "def mergeSort(arr: [int], l: int, r: int):\n",
    "    if r - l <= 1:\n",
    "        return arr\n",
    "    \n",
    "    mid = l + (r - l) // 2\n",
    "    left = mergeSort(arr, l, mid)\n",
    "    right = mergeSort(arr, mid + 1, r)\n",
    "\n",
    "    ans = merge(left, right)\n",
    "    for i in len(ans):\n",
    "        arr[l + i] = ans[i]\n",
    "    return arr\n",
    "\n",
    "l1 = [2,4,2,6,8,3,9,1,5]\n",
    "\n",
    "print(mergeSort(l1, 2, 7))"
   ]
  },
  {
   "cell_type": "code",
   "execution_count": null,
   "id": "3c9df91b",
   "metadata": {},
   "outputs": [],
   "source": []
  }
 ],
 "metadata": {
  "kernelspec": {
   "display_name": "Python 3 (ipykernel)",
   "language": "python",
   "name": "python3"
  },
  "language_info": {
   "codemirror_mode": {
    "name": "ipython",
    "version": 3
   },
   "file_extension": ".py",
   "mimetype": "text/x-python",
   "name": "python",
   "nbconvert_exporter": "python",
   "pygments_lexer": "ipython3",
   "version": "3.11.4"
  }
 },
 "nbformat": 4,
 "nbformat_minor": 5
}

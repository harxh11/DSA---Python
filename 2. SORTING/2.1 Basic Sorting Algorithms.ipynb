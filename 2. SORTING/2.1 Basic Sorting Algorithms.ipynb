{
 "cells": [
  {
   "cell_type": "markdown",
   "id": "7f8228bc",
   "metadata": {},
   "source": [
    "# Basic Sorting Algorithms"
   ]
  },
  {
   "cell_type": "code",
   "execution_count": 4,
   "id": "97c4571b",
   "metadata": {},
   "outputs": [
    {
     "name": "stdout",
     "output_type": "stream",
     "text": [
      "Enter the number of elements in the array: 4\n",
      "Enter the array of numbers: 12 34 65 31 76 12 1 0 12\n",
      "[0, 1, 12, 12, 12, 31, 34, 65, 76]\n"
     ]
    }
   ],
   "source": [
    "# 1. BUBBLE SORT\n",
    "\n",
    "def bubbleSort(l):\n",
    "    for i in range(len(l) - 1):\n",
    "        for j in range(len(l) - 1):\n",
    "            if l[j] >= l[j + 1]:\n",
    "                l[j], l[j + 1] = l[j + 1], l[j] \n",
    "\n",
    "\n",
    "if __name__ == \"__main__\":\n",
    "    \n",
    "    n = int(input(\"Enter the number of elements in the array: \"))\n",
    "    l1 = list(map(int,input(\"Enter the array of numbers: \").split()))\n",
    "    \n",
    "    bubbleSort(l1)\n",
    "    print(l1)"
   ]
  },
  {
   "cell_type": "code",
   "execution_count": 8,
   "id": "ef03b490",
   "metadata": {},
   "outputs": [
    {
     "name": "stdout",
     "output_type": "stream",
     "text": [
      "1 4 2 3 6 1\n",
      "[1, 1, 2, 3, 4, 6]\n"
     ]
    }
   ],
   "source": [
    "# 2. Selection Sort\n",
    "\n",
    "\n",
    "def selectionSort(l):\n",
    "    for i in range(len(l) - 1):\n",
    "        m = i\n",
    "        for j in range(i, len(l)):\n",
    "            if l[j] < l[m]:\n",
    "                m = j\n",
    "        l[m], l[i] = l[i], l[m]\n",
    "        \n",
    "\n",
    "if __name__ == \"__main__\":\n",
    "    l1 = list(map(int,input().split()))\n",
    "    \n",
    "    selectionSort(l1)\n",
    "    print(l1)"
   ]
  },
  {
   "cell_type": "code",
   "execution_count": 11,
   "id": "66f88255",
   "metadata": {},
   "outputs": [
    {
     "name": "stdout",
     "output_type": "stream",
     "text": [
      "[1, 2, 3, 3, 4, 6, 7]\n"
     ]
    }
   ],
   "source": [
    "# Recursive Selection Sort\n",
    "\n",
    "\n",
    "def recSelSort(arr, n, i = 0):\n",
    "    \n",
    "    if i == n:\n",
    "        return arr\n",
    "    \n",
    "    m = i\n",
    "    for j in range(i, n):\n",
    "        if arr[j] < arr[m]:\n",
    "            m = j\n",
    "    arr[m], arr[i] = arr[i], arr[m]\n",
    "    i += 1\n",
    "    recSelSort(arr, n, i)\n",
    "\n",
    "l = [1,4,3,6,2,7,3]\n",
    "recSelSort(l,len(l))\n",
    "\n",
    "print(l)"
   ]
  },
  {
   "cell_type": "code",
   "execution_count": 15,
   "id": "b210b593",
   "metadata": {},
   "outputs": [
    {
     "name": "stdout",
     "output_type": "stream",
     "text": [
      "[1, 2, 3, 4, 5, 6, 9, 77]\n"
     ]
    }
   ],
   "source": [
    "# Insertion Sort\n",
    "\n",
    "def insertionSort(arr):\n",
    "    for i in range(1, len(arr)):\n",
    "        it = i - 1\n",
    "        while arr[i] < arr[it] and it >= 0:\n",
    "            arr[i],arr[it] = arr[it], arr[i]\n",
    "            it -= 1\n",
    "            i -= 1\n",
    "\n",
    "l = [1,4,5,3,7,9,2,34,15,84]\n",
    "l2 = [9,77,6,5,4,3,2,1]\n",
    "insertionSort(l2)\n",
    "print(l2)"
   ]
  },
  {
   "cell_type": "code",
   "execution_count": null,
   "id": "bdf20269",
   "metadata": {},
   "outputs": [],
   "source": []
  }
 ],
 "metadata": {
  "kernelspec": {
   "display_name": "Python 3 (ipykernel)",
   "language": "python",
   "name": "python3"
  },
  "language_info": {
   "codemirror_mode": {
    "name": "ipython",
    "version": 3
   },
   "file_extension": ".py",
   "mimetype": "text/x-python",
   "name": "python",
   "nbconvert_exporter": "python",
   "pygments_lexer": "ipython3",
   "version": "3.11.4"
  }
 },
 "nbformat": 4,
 "nbformat_minor": 5
}

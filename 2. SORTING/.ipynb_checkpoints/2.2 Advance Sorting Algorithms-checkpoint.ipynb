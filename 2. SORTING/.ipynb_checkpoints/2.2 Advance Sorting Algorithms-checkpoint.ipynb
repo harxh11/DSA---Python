{
 "cells": [
  {
   "cell_type": "markdown",
   "id": "b063b3d3",
   "metadata": {},
   "source": [
    "# Advance Sorting Algorithms"
   ]
  },
  {
   "cell_type": "code",
   "execution_count": 1,
   "id": "49f763dc",
   "metadata": {},
   "outputs": [],
   "source": [
    "# Merge Sort\n",
    "# Quick Sort\n",
    "# Recursive Selection Sort -- DONE\n",
    "# Recursive Bubble Sort \n",
    "# Recursive Insertion Sort"
   ]
  },
  {
   "cell_type": "code",
   "execution_count": 9,
   "id": "d91421fe",
   "metadata": {},
   "outputs": [
    {
     "name": "stdout",
     "output_type": "stream",
     "text": [
      "[1, 2, 2, 3, 4, 5, 7, 8]\n"
     ]
    }
   ],
   "source": [
    "# Merge Sort: \n",
    "\n",
    "def merge(l1, l2):\n",
    "    i = 0\n",
    "    j = 0\n",
    "    ans = []\n",
    "    while i < len(l1) and j < len(l2):\n",
    "        if l1[i] < l2[j]:\n",
    "            ans.append(l1[i])\n",
    "            i += 1\n",
    "        else:\n",
    "            ans.append(l2[j])\n",
    "            j += 1\n",
    "    \n",
    "    while i < len(l1):\n",
    "        ans.append(l1[i])\n",
    "        i += 1\n",
    "    while j < len(l2):\n",
    "        ans.append(l2[j])\n",
    "        j += 1\n",
    "    \n",
    "    return ans\n",
    "\n",
    "\n",
    "def mergeSort(arr):\n",
    "    \n",
    "    if len(arr) == 1:\n",
    "        return arr\n",
    "    \n",
    "    mid = len(arr)//2\n",
    "    left = mergeSort(arr[:mid])\n",
    "    right = mergeSort(arr[mid:])\n",
    "    \n",
    "    return merge(left, right)\n",
    "\n",
    "l1 = [1,4,2,5,7,3,8,2]\n",
    "\n",
    "print(mergeSort(l1))"
   ]
  },
  {
   "cell_type": "code",
   "execution_count": null,
   "id": "e2b6c40e",
   "metadata": {},
   "outputs": [],
   "source": []
  },
  {
   "cell_type": "code",
   "execution_count": 16,
   "id": "1707d696",
   "metadata": {},
   "outputs": [
    {
     "name": "stdout",
     "output_type": "stream",
     "text": [
      "[1, 2, 2, 3, 4, 5, 7, 8]\n"
     ]
    }
   ],
   "source": [
    "\n",
    "# Recursive Bubble Sort\n",
    "\n",
    "\"\"\" similar to iterative method the only difference being that we perform the second iterattion for finding the maximum number,\n",
    "        but repeat the first iteration recursively for n - 1 elements instead of all n elements....\"\"\"\n",
    "\n",
    "def bubbleSort(arr, n):\n",
    "    if n == 0:\n",
    "        print(arr)\n",
    "        return \n",
    "    \n",
    "    for i in range(n - 1):\n",
    "        if arr[i] > arr[i + 1]:\n",
    "            arr[i], arr[i + 1] = arr[i+ 1], arr[i]\n",
    "        \n",
    "    bubbleSort(arr, n - 1)\n",
    "\n",
    "\n",
    "l1 = [1,4,2,5,7,3,8,2]\n",
    "\n",
    "bubbleSort(l1, len(l1))\n"
   ]
  },
  {
   "cell_type": "code",
   "execution_count": null,
   "id": "4fb11ed9",
   "metadata": {},
   "outputs": [],
   "source": [
    "\n",
    "\n"
   ]
  }
 ],
 "metadata": {
  "kernelspec": {
   "display_name": "Python 3 (ipykernel)",
   "language": "python",
   "name": "python3"
  },
  "language_info": {
   "codemirror_mode": {
    "name": "ipython",
    "version": 3
   },
   "file_extension": ".py",
   "mimetype": "text/x-python",
   "name": "python",
   "nbconvert_exporter": "python",
   "pygments_lexer": "ipython3",
   "version": "3.11.4"
  }
 },
 "nbformat": 4,
 "nbformat_minor": 5
}

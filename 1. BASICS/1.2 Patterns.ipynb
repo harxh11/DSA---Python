{
 "cells": [
  {
   "cell_type": "code",
   "execution_count": 9,
   "id": "34d4e695",
   "metadata": {},
   "outputs": [
    {
     "name": "stdout",
     "output_type": "stream",
     "text": [
      "Enter a number: 5\n",
      " *  *  *  *  * \n",
      "\n",
      " *  *  *  *  * \n",
      "\n",
      " *  *  *  *  * \n",
      "\n",
      " *  *  *  *  * \n",
      "\n",
      " *  *  *  *  * \n",
      "\n"
     ]
    }
   ],
   "source": [
    "# Logic Buliding - Pattern creation in python\n",
    "\n",
    "# 1\n",
    "\n",
    "n = int(input(\"Enter a number: \"))\n",
    "for i in range(n):\n",
    "    for j in range(n):\n",
    "        print(\" * \", end=\"\")\n",
    "    print(\"\\n\")\n"
   ]
  },
  {
   "cell_type": "code",
   "execution_count": 10,
   "id": "cabed2cd",
   "metadata": {},
   "outputs": [
    {
     "name": "stdout",
     "output_type": "stream",
     "text": [
      "Enter a number: 5\n",
      " * \n",
      "\n",
      " *  * \n",
      "\n",
      " *  *  * \n",
      "\n",
      " *  *  *  * \n",
      "\n",
      " *  *  *  *  * \n",
      "\n"
     ]
    }
   ],
   "source": [
    "# 2\n",
    "\n",
    "n = int(input(\"Enter a number: \"))\n",
    "for i in range(1, n + 1):\n",
    "    for j in range(i):\n",
    "        print(\" * \", end=\"\")\n",
    "    print(\"\\n\")\n"
   ]
  },
  {
   "cell_type": "code",
   "execution_count": 11,
   "id": "2adcf710",
   "metadata": {},
   "outputs": [
    {
     "name": "stdout",
     "output_type": "stream",
     "text": [
      "Enter a number: 5\n",
      " 1 \n",
      "\n",
      " 1  2 \n",
      "\n",
      " 1  2  3 \n",
      "\n",
      " 1  2  3  4 \n",
      "\n",
      " 1  2  3  4  5 \n",
      "\n"
     ]
    }
   ],
   "source": [
    "# 3\n",
    "\n",
    "n = int(input(\"Enter a number: \"))\n",
    "for i in range(1,n + 1):\n",
    "    for j in range(i):\n",
    "        print(f\" {j + 1} \", end=\"\")\n",
    "    print(\"\\n\")\n"
   ]
  },
  {
   "cell_type": "code",
   "execution_count": 12,
   "id": "3aa8d4c2",
   "metadata": {},
   "outputs": [
    {
     "name": "stdout",
     "output_type": "stream",
     "text": [
      "Enter a number: 5\n",
      " 1 \n",
      "\n",
      " 2  2 \n",
      "\n",
      " 3  3  3 \n",
      "\n",
      " 4  4  4  4 \n",
      "\n",
      " 5  5  5  5  5 \n",
      "\n"
     ]
    }
   ],
   "source": [
    "# 4\n",
    "\n",
    "n = int(input(\"Enter a number: \"))\n",
    "for i in range(1,n + 1):\n",
    "    for j in range(i):\n",
    "        print(f\" {i} \", end=\"\")\n",
    "    print(\"\\n\")\n"
   ]
  },
  {
   "cell_type": "code",
   "execution_count": 5,
   "id": "e9375fa1",
   "metadata": {},
   "outputs": [
    {
     "name": "stdout",
     "output_type": "stream",
     "text": [
      "Enter a number: 5\n",
      " *  *  *  *  * \n",
      "\n",
      " *  *  *  * \n",
      "\n",
      " *  *  * \n",
      "\n",
      " *  * \n",
      "\n",
      " * \n",
      "\n",
      "\n",
      "\n"
     ]
    }
   ],
   "source": [
    "# 5\n",
    "\n",
    "n = int(input(\"Enter a number: \"))\n",
    "for i in range(n + 1):\n",
    "    for j in range(n-i):\n",
    "        print(\" * \", end=\"\")\n",
    "    print(\"\\n\")\n"
   ]
  },
  {
   "cell_type": "code",
   "execution_count": 15,
   "id": "b9e9d1df",
   "metadata": {},
   "outputs": [
    {
     "name": "stdout",
     "output_type": "stream",
     "text": [
      "Enter a number: 5\n",
      " 1  2  3  4  5 \n",
      "\n",
      " 1  2  3  4 \n",
      "\n",
      " 1  2  3 \n",
      "\n",
      " 1  2 \n",
      "\n",
      " 1 \n",
      "\n"
     ]
    }
   ],
   "source": [
    "# 6\n",
    "\n",
    "n = int(input(\"Enter a number: \"))\n",
    "for i in range(1, n + 1):\n",
    "    for j in range(n-i + 1):\n",
    "        print(f\" {j + 1} \", end=\"\")\n",
    "    print(\"\\n\")\n"
   ]
  },
  {
   "cell_type": "code",
   "execution_count": 3,
   "id": "b94ffb2d",
   "metadata": {},
   "outputs": [
    {
     "name": "stdout",
     "output_type": "stream",
     "text": [
      "Enter a number: 5\n",
      "       *       \n",
      "\n",
      "      *  *      \n",
      "\n",
      "     *  *  *     \n",
      "\n",
      "    *  *  *  *    \n",
      "\n",
      "   *  *  *  *  *   \n",
      "\n",
      "  *  *  *  *  *  *  \n",
      "\n"
     ]
    }
   ],
   "source": [
    "n = int(input(\"Enter a number: \"))\n",
    "for i in range(n + 1):\n",
    "    for j in range(n-i + 1):\n",
    "        print(\" \", end=\"\")\n",
    "    for j in range(i + 1):\n",
    "        print(\" * \", end=\"\")\n",
    "    for j in range(n-i + 1):\n",
    "        print(\" \", end=\"\")\n",
    "        \n",
    "    print(\"\\n\")\n"
   ]
  },
  {
   "cell_type": "code",
   "execution_count": 4,
   "id": "0eba2403",
   "metadata": {},
   "outputs": [
    {
     "name": "stdout",
     "output_type": "stream",
     "text": [
      "Enter a number: 5\n",
      "  *  *  *  *  *  *  \n",
      "\n",
      "   *  *  *  *  *   \n",
      "\n",
      "    *  *  *  *    \n",
      "\n",
      "     *  *  *     \n",
      "\n",
      "      *  *      \n",
      "\n",
      "       *       \n",
      "\n"
     ]
    }
   ],
   "source": [
    "n = int(input(\"Enter a number: \"))\n",
    "for i in range(n + 1):\n",
    "    for j in range(i + 1):\n",
    "        print(\" \", end=\"\")\n",
    "    for j in range(n - i + 1):\n",
    "        print(\" * \", end=\"\")\n",
    "    for j in range(i + 1):\n",
    "        print(\" \", end=\"\")\n",
    "        \n",
    "    print(\"\\n\")\n"
   ]
  },
  {
   "cell_type": "code",
   "execution_count": 23,
   "id": "97a32d25",
   "metadata": {},
   "outputs": [
    {
     "name": "stdout",
     "output_type": "stream",
     "text": [
      "Enter a number: 5\n",
      "       *       \n",
      "\n",
      "      *  *      \n",
      "\n",
      "     *  *  *     \n",
      "\n",
      "    *  *  *  *    \n",
      "\n",
      "   *  *  *  *  *   \n",
      "\n",
      "  *  *  *  *  *  *  \n",
      "\n",
      "   *  *  *  *  *   \n",
      "\n",
      "    *  *  *  *    \n",
      "\n",
      "     *  *  *     \n",
      "\n",
      "      *  *      \n",
      "\n",
      "       *       \n",
      "\n"
     ]
    }
   ],
   "source": [
    "n = int(input(\"Enter a number: \"))\n",
    "for i in range(n + 1):\n",
    "    for j in range(n-i + 1):\n",
    "        print(\" \", end=\"\")\n",
    "    for j in range(i + 1):\n",
    "        print(\" * \", end=\"\")\n",
    "    for j in range(n-i + 1):\n",
    "        print(\" \", end=\"\")\n",
    "        \n",
    "    print(\"\\n\")\n",
    "    \n",
    "for i in range(1, n + 1):\n",
    "    for j in range(i + 1):\n",
    "        print(\" \", end=\"\")\n",
    "    for j in range(n - i + 1):\n",
    "        print(\" * \", end=\"\")\n",
    "    for j in range(i + 1):\n",
    "        print(\" \", end=\"\")\n",
    "        \n",
    "    print(\"\\n\")\n"
   ]
  },
  {
   "cell_type": "code",
   "execution_count": 20,
   "id": "1c8443cf",
   "metadata": {},
   "outputs": [
    {
     "name": "stdout",
     "output_type": "stream",
     "text": [
      "Enter a number: 5\n",
      " * \n",
      "\n",
      " *  * \n",
      "\n",
      " *  *  * \n",
      "\n",
      " *  *  *  * \n",
      "\n",
      " *  *  *  *  * \n",
      "\n",
      " *  *  *  * \n",
      "\n",
      " *  *  * \n",
      "\n",
      " *  * \n",
      "\n",
      " * \n",
      "\n"
     ]
    }
   ],
   "source": [
    "n = int(input(\"Enter a number: \"))\n",
    "for i in range(1, n + 1):\n",
    "    for j in range(i):\n",
    "        print(\" * \", end=\"\")\n",
    "    print(\"\\n\")\n",
    "for i in range(1, n):\n",
    "    for j in range(n-i):\n",
    "        print(\" * \", end=\"\")\n",
    "    print(\"\\n\")"
   ]
  },
  {
   "cell_type": "code",
   "execution_count": 26,
   "id": "41863243",
   "metadata": {},
   "outputs": [
    {
     "name": "stdout",
     "output_type": "stream",
     "text": [
      "Enter a number: 5\n",
      " 0 \n",
      "\n",
      " 1  0 \n",
      "\n",
      " 0  1  0 \n",
      "\n",
      " 1  0  1  0 \n",
      "\n",
      " 0  1  0  1  0 \n",
      "\n"
     ]
    }
   ],
   "source": [
    "n = int(input(\"Enter a number: \"))\n",
    "for i in range(1,n + 1):\n",
    "    for j in range(i):\n",
    "        if (i + j) % 2 == 0:\n",
    "            print(f\" 1 \", end=\"\")\n",
    "        else:\n",
    "            print(f\" 0 \", end=\"\")\n",
    "    print(\"\\n\")\n"
   ]
  },
  {
   "cell_type": "code",
   "execution_count": 43,
   "id": "7f6e54f4",
   "metadata": {},
   "outputs": [
    {
     "name": "stdout",
     "output_type": "stream",
     "text": [
      "Enter a number: 5\n",
      "1          1\n",
      "\n",
      "12        21\n",
      "\n",
      "123      321\n",
      "\n",
      "1234    4321\n",
      "\n",
      "12345  54321\n",
      "\n",
      "123456654321\n",
      "\n"
     ]
    }
   ],
   "source": [
    "\n",
    "n = int(input(\"Enter a number: \"))\n",
    "\n",
    "for i in range(n + 1):\n",
    "    for j in range(i + 1):\n",
    "        print(j + 1, end=\"\")\n",
    "    for j in range(n - i):\n",
    "        print(\"  \", end=\"\")\n",
    "    for j in range(i + 1):\n",
    "        print(i - j + 1, end=\"\")\n",
    "        \n",
    "    print(\"\\n\")\n",
    "        "
   ]
  },
  {
   "cell_type": "code",
   "execution_count": 45,
   "id": "7db2b41f",
   "metadata": {},
   "outputs": [
    {
     "name": "stdout",
     "output_type": "stream",
     "text": [
      "Enter a number: 5\n",
      " 1 \n",
      "\n",
      " 2  3 \n",
      "\n",
      " 4  5  6 \n",
      "\n",
      " 7  8  9  10 \n",
      "\n",
      " 11  12  13  14  15 \n",
      "\n"
     ]
    }
   ],
   "source": [
    "n = int(input(\"Enter a number: \"))\n",
    "a = 1\n",
    "\n",
    "for i in range(1,n + 1):\n",
    "    for j in range(i):\n",
    "        print(f\" {a} \", end=\"\")\n",
    "        a += 1\n",
    "    print(\"\\n\")\n"
   ]
  },
  {
   "cell_type": "code",
   "execution_count": 54,
   "id": "0c6cfba6",
   "metadata": {},
   "outputs": [
    {
     "name": "stdout",
     "output_type": "stream",
     "text": [
      "Enter a number: 5\n",
      "************\n",
      "\n",
      "*****  *****\n",
      "\n",
      "****    ****\n",
      "\n",
      "***      ***\n",
      "\n",
      "**        **\n",
      "\n",
      "*          *\n",
      "\n",
      "*          *\n",
      "\n",
      "**        **\n",
      "\n",
      "***      ***\n",
      "\n",
      "****    ****\n",
      "\n",
      "*****  *****\n",
      "\n",
      "************\n",
      "\n"
     ]
    }
   ],
   "source": [
    "\n",
    "n = int(input(\"Enter a number: \"))\n",
    "\n",
    "for i in range(n + 1):\n",
    "    for j in range(n - i + 1):\n",
    "        print(\"*\", end=\"\")\n",
    "    for j in range(i):\n",
    "        print(\"  \", end=\"\")\n",
    "    for j in range(n - i + 1):\n",
    "        print(\"*\", end=\"\")\n",
    "        \n",
    "    print(\"\\n\")\n",
    "        \n",
    "\n",
    "for i in range(n + 1):\n",
    "    for j in range(i + 1):\n",
    "        print(\"*\", end=\"\")\n",
    "    for j in range(n - i):\n",
    "        print(\"  \", end=\"\")\n",
    "    for j in range(i + 1):\n",
    "        print(\"*\", end=\"\")\n",
    "        \n",
    "    print(\"\\n\")\n",
    "        "
   ]
  },
  {
   "cell_type": "code",
   "execution_count": 59,
   "id": "2a3aac68",
   "metadata": {},
   "outputs": [
    {
     "name": "stdout",
     "output_type": "stream",
     "text": [
      "Enter a number: 5\n",
      "*          *\n",
      "\n",
      "**        **\n",
      "\n",
      "***      ***\n",
      "\n",
      "****    ****\n",
      "\n",
      "*****  *****\n",
      "\n",
      "************\n",
      "\n",
      "*****  *****\n",
      "\n",
      "****    ****\n",
      "\n",
      "***      ***\n",
      "\n",
      "**        **\n",
      "\n",
      "*          *\n",
      "\n"
     ]
    }
   ],
   "source": [
    "n = int(input(\"Enter a number: \"))\n",
    "\n",
    "for i in range(n):\n",
    "    for j in range(i + 1):\n",
    "        print(\"*\", end=\"\")\n",
    "    for j in range(n - i):\n",
    "        print(\"  \", end=\"\")\n",
    "    for j in range(i + 1):\n",
    "        print(\"*\", end=\"\")\n",
    "        \n",
    "    print(\"\\n\")\n",
    "\n",
    "for i in range(n + 1):\n",
    "    for j in range(n - i + 1):\n",
    "        print(\"*\", end=\"\")\n",
    "    for j in range(i):\n",
    "        print(\"  \", end=\"\")\n",
    "    for j in range(n - i + 1):\n",
    "        print(\"*\", end=\"\")\n",
    "        \n",
    "    print(\"\\n\")\n",
    "        "
   ]
  },
  {
   "cell_type": "code",
   "execution_count": 64,
   "id": "052ea25a",
   "metadata": {},
   "outputs": [
    {
     "name": "stdout",
     "output_type": "stream",
     "text": [
      "Enter a number: 5\n",
      " *  *  *  *  * \n",
      "\n",
      " *           * \n",
      "\n",
      " *           * \n",
      "\n",
      " *           * \n",
      "\n",
      " *  *  *  *  * \n",
      "\n"
     ]
    }
   ],
   "source": [
    "n = int(input(\"Enter a number: \"))\n",
    "\n",
    "for i in range(n):\n",
    "    for j in range(n):\n",
    "        if i == 0 or j == 0 or i == n - 1 or j == n - 1:\n",
    "            print(\" * \", end=\"\")\n",
    "        else:\n",
    "            print(\"   \", end=\"\")\n",
    "    print(\"\\n\")"
   ]
  },
  {
   "cell_type": "code",
   "execution_count": 75,
   "id": "077bc703",
   "metadata": {},
   "outputs": [
    {
     "name": "stdout",
     "output_type": "stream",
     "text": [
      "Enter a number: 5\n",
      "55555555556\n",
      "\n",
      "54444444456\n",
      "\n",
      "54333333456\n",
      "\n",
      "54322223456\n",
      "\n",
      "54321123456\n",
      "\n",
      "54321123456\n",
      "\n",
      "54322223456\n",
      "\n",
      "54333333456\n",
      "\n",
      "54444444456\n",
      "\n",
      "55555555556\n",
      "\n",
      "66666666666\n",
      "\n"
     ]
    }
   ],
   "source": [
    "n = int(input(\"Enter a number: \"))\n",
    "\n",
    "for i in range(n * 2):\n",
    "    for j in range(n * 2):\n",
    "        top = i\n",
    "        left = j\n",
    "        bottom = (2 * n) - i - 1\n",
    "        right = (2 * n) - j - 1\n",
    "        \n",
    "        print(n - min(top, left, right, bottom), end=\"\")\n",
    "    print(\"\\n\")\n",
    "        "
   ]
  },
  {
   "cell_type": "code",
   "execution_count": null,
   "id": "4fa82fac",
   "metadata": {},
   "outputs": [],
   "source": []
  }
 ],
 "metadata": {
  "kernelspec": {
   "display_name": "Python 3 (ipykernel)",
   "language": "python",
   "name": "python3"
  },
  "language_info": {
   "codemirror_mode": {
    "name": "ipython",
    "version": 3
   },
   "file_extension": ".py",
   "mimetype": "text/x-python",
   "name": "python",
   "nbconvert_exporter": "python",
   "pygments_lexer": "ipython3",
   "version": "3.11.4"
  }
 },
 "nbformat": 4,
 "nbformat_minor": 5
}

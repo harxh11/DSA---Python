{
 "cells": [
  {
   "cell_type": "code",
   "execution_count": 2,
   "id": "2b6ee7ee",
   "metadata": {},
   "outputs": [
    {
     "data": {
      "text/plain": [
       "66"
      ]
     },
     "execution_count": 2,
     "metadata": {},
     "output_type": "execute_result"
    }
   ],
   "source": [
    "# 1.4 BASIC MATHEMATICS"
   ]
  },
  {
   "cell_type": "code",
   "execution_count": 3,
   "id": "8fdcc7f2",
   "metadata": {},
   "outputs": [],
   "source": [
    "# Count Digits \n",
    "\n",
    "def countDigits(n: int) -> int:\n",
    "    a = n\n",
    "    count = 0\n",
    "    while a > 0:\n",
    "        num = a % 10\n",
    "        if num == 0:\n",
    "            a = a//10\n",
    "        else:\n",
    "            if n % num == 0:\n",
    "                count += 1\n",
    "                a = a//10\n",
    "            else:\n",
    "                a = a//10\n",
    "    return count"
   ]
  },
  {
   "cell_type": "code",
   "execution_count": 5,
   "id": "f0134496",
   "metadata": {},
   "outputs": [
    {
     "name": "stdout",
     "output_type": "stream",
     "text": [
      "31\n"
     ]
    }
   ],
   "source": [
    "# Reverse Bits\n",
    "\n",
    "n = 1534236469\n",
    "s = \"\"\n",
    "a = \"\"\n",
    "ans2 = 0\n",
    "\n",
    "while n > 0:\n",
    "    s += str(n % 2)\n",
    "    n = n // 2\n",
    "\n",
    "for i in range(32 - len(s)):\n",
    "    a += str(0)\n",
    "\n",
    "num = a + s[::-1]\n",
    "ans = num[::-1]\n",
    "\n",
    "for i in range(len(ans)):\n",
    "    if ans[i] == str(1):\n",
    "        ans2 += 2**(32-i - 1)\n",
    "    else:\n",
    "        continue\n",
    "print(ans2)"
   ]
  },
  {
   "cell_type": "code",
   "execution_count": 26,
   "id": "e2193270",
   "metadata": {},
   "outputs": [
    {
     "name": "stdout",
     "output_type": "stream",
     "text": [
      "565\n",
      "true\n"
     ]
    }
   ],
   "source": [
    "# Palindrome Number\n",
    "\n",
    "n=int(input())\n",
    "a = n\n",
    "ans = 0\n",
    "while a > 0:\n",
    "    ans = ans * 10 + a % 10\n",
    "    a = a//10\n",
    "\n",
    "if ans == n:\n",
    "    print(\"true\")\n",
    "else:\n",
    "    print(\"false\")"
   ]
  },
  {
   "cell_type": "code",
   "execution_count": 17,
   "id": "d0d51989",
   "metadata": {},
   "outputs": [
    {
     "name": "stdout",
     "output_type": "stream",
     "text": [
      "Enter first number: 100\n",
      "Enter second number: 120\n",
      "20\n"
     ]
    }
   ],
   "source": [
    "n = int(input(\"Enter first number: \"))\n",
    "m = int(input(\"Enter second number: \"))\n",
    "\n",
    "ans = 0\n",
    "\n",
    "for i in range(2, min(m,n) // 2 + 1):\n",
    "    if m % i == 0 and n % i == 0:\n",
    "        ans = i\n",
    "    \n",
    "print(ans)"
   ]
  },
  {
   "cell_type": "code",
   "execution_count": 23,
   "id": "4ea2a00a",
   "metadata": {},
   "outputs": [
    {
     "name": "stdout",
     "output_type": "stream",
     "text": [
      "153\n",
      "true\n"
     ]
    }
   ],
   "source": [
    "n = int(input())\n",
    "\n",
    "a = n\n",
    "ans = 0\n",
    "l = len(str(n))\n",
    "\n",
    "while a > 0:\n",
    "    ans += (a % 10)**l\n",
    "    a = a//10\n",
    "\n",
    "if ans == n:\n",
    "    print(\"true\")\n",
    "else:\n",
    "    print(\"false\")"
   ]
  },
  {
   "cell_type": "code",
   "execution_count": null,
   "id": "62969f6a",
   "metadata": {},
   "outputs": [],
   "source": []
  }
 ],
 "metadata": {
  "kernelspec": {
   "display_name": "Python 3 (ipykernel)",
   "language": "python",
   "name": "python3"
  },
  "language_info": {
   "codemirror_mode": {
    "name": "ipython",
    "version": 3
   },
   "file_extension": ".py",
   "mimetype": "text/x-python",
   "name": "python",
   "nbconvert_exporter": "python",
   "pygments_lexer": "ipython3",
   "version": "3.11.4"
  }
 },
 "nbformat": 4,
 "nbformat_minor": 5
}

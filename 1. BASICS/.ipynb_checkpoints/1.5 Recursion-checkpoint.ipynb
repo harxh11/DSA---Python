{
 "cells": [
  {
   "cell_type": "markdown",
   "id": "ba309fce",
   "metadata": {},
   "source": [
    "\n",
    "# 1.5 RECURSION\n",
    "\n",
    "\n"
   ]
  },
  {
   "cell_type": "code",
   "execution_count": 3,
   "id": "74975b5b",
   "metadata": {},
   "outputs": [
    {
     "name": "stdout",
     "output_type": "stream",
     "text": [
      "Enter a number: 5\n",
      "5\n",
      "4\n",
      "3\n",
      "2\n",
      "1\n"
     ]
    }
   ],
   "source": [
    "# Print a number n times using Recursion\n",
    "\n",
    "def printn(n):\n",
    "    if n == 0:\n",
    "        return\n",
    "    else:\n",
    "        print(n)\n",
    "        printn(n - 1)\n",
    "\n",
    "if __name__ == \"__main__\":\n",
    "    n = int(input(\"Enter a number: \"))\n",
    "    printn(n)"
   ]
  },
  {
   "cell_type": "code",
   "execution_count": 9,
   "id": "8723bcd8",
   "metadata": {},
   "outputs": [
    {
     "name": "stdout",
     "output_type": "stream",
     "text": [
      "Enter your name: harsh\n",
      "Enter a number: 5\n",
      "harsh\n",
      "harsh\n",
      "harsh\n",
      "harsh\n",
      "harsh\n"
     ]
    }
   ],
   "source": [
    "# Print name N time using Recursion\n",
    "\n",
    "def printName(name,n):\n",
    "    if n == 0:\n",
    "        return\n",
    "    else:\n",
    "        print(name)\n",
    "        printName(name, n - 1)\n",
    "\n",
    "if __name__ == \"__main__\":\n",
    "    name = input(\"Enter your name: \")\n",
    "    n = int(input(\"Enter a number: \"))\n",
    "    \n",
    "    printName(name, n)"
   ]
  },
  {
   "cell_type": "code",
   "execution_count": 12,
   "id": "611bed5a",
   "metadata": {},
   "outputs": [
    {
     "name": "stdout",
     "output_type": "stream",
     "text": [
      "1\n",
      "2\n",
      "3\n",
      "4\n",
      "5\n"
     ]
    }
   ],
   "source": [
    "# Print 1 to N using Recursion\n",
    "\n",
    "def printNums(count, n):\n",
    "    if count == n:\n",
    "        print(count)\n",
    "        return\n",
    "    else:\n",
    "        print(count)\n",
    "        count += 1\n",
    "        printNums(count, n)\n",
    "\n",
    "if __name__ == \"__main__\":\n",
    "    printNums(1,n)"
   ]
  },
  {
   "cell_type": "code",
   "execution_count": 15,
   "id": "fe5b75a3",
   "metadata": {},
   "outputs": [
    {
     "name": "stdout",
     "output_type": "stream",
     "text": [
      "Enter a number: 5\n",
      "5\n",
      "4\n",
      "3\n",
      "2\n",
      "1\n"
     ]
    }
   ],
   "source": [
    "# Print N to 1 using Recursion\n",
    "\n",
    "def printNums(n):\n",
    "    if n == 0:\n",
    "        return\n",
    "    else:\n",
    "        print(n)\n",
    "        printNums(n - 1)\n",
    "\n",
    "if __name__ == \"__main__\":\n",
    "    n = int(input(\"Enter a number: \"))\n",
    "    printNums(n)"
   ]
  },
  {
   "cell_type": "code",
   "execution_count": 16,
   "id": "9b86c331",
   "metadata": {},
   "outputs": [
    {
     "name": "stdout",
     "output_type": "stream",
     "text": [
      "Enter a number: 5\n",
      "15\n"
     ]
    }
   ],
   "source": [
    "# Calculate the Sum of N integers using Recursion\n",
    "\n",
    "# Parameterized Solution -- i.e. passing the sum variable as parameter each recursion call\n",
    "\n",
    "def Sum(ans, n):\n",
    "    if n == 0:\n",
    "        print(ans)\n",
    "        return\n",
    "    else:\n",
    "        \n",
    "        Sum(ans + n, n - 1)\n",
    "\n",
    "if __name__ == \"__main__\":\n",
    "    n = int(input(\"Enter a number: \"))\n",
    "    Sum(0, n)"
   ]
  },
  {
   "cell_type": "code",
   "execution_count": 19,
   "id": "2cd1f1f8",
   "metadata": {},
   "outputs": [
    {
     "name": "stdout",
     "output_type": "stream",
     "text": [
      "Enter a number: 5\n",
      "15\n"
     ]
    }
   ],
   "source": [
    "# Calculate the Sum of N integers using Recursion\n",
    "\"\"\"  IMPortant Approach  \"\"\"\n",
    "# Functional Approach -- i.e. using normal Recursion strategy \n",
    "#                       thus,   sum(n) = n + sum(n - 1)\n",
    "    \n",
    "def Sum(n):\n",
    "    if n == 0:\n",
    "        return n\n",
    "    \n",
    "    else:\n",
    "        return n + Sum(n - 1)\n",
    "    \n",
    "if __name__ == \"__main__\":\n",
    "    n = int(input(\"Enter a number: \"))\n",
    "    print(Sum(n))"
   ]
  },
  {
   "cell_type": "code",
   "execution_count": 21,
   "id": "d686d24b",
   "metadata": {},
   "outputs": [
    {
     "name": "stdout",
     "output_type": "stream",
     "text": [
      "Enter a number: 5\n",
      "120\n"
     ]
    }
   ],
   "source": [
    "# Calculate the factorial N using Recursion\n",
    "\n",
    "def fact(n):\n",
    "    if n == 1:\n",
    "        return n\n",
    "    else:\n",
    "        return n * fact(n - 1)\n",
    "\n",
    "if __name__ == \"__main__\":\n",
    "    n = int(input(\"Enter a number: \"))\n",
    "    print(fact(n))"
   ]
  },
  {
   "cell_type": "code",
   "execution_count": 26,
   "id": "3522058a",
   "metadata": {},
   "outputs": [
    {
     "name": "stdout",
     "output_type": "stream",
     "text": [
      "Enter the list of numbers: 1 2 3 4 5\n",
      "[5, 4, 3, 2, 1]\n"
     ]
    }
   ],
   "source": [
    "# Reverse an Array using Recursion\n",
    "\n",
    "\"\"\"there are basically 3 approaches to this: \n",
    "    1. creating an auxiliary array\n",
    "    2. in place replacing using iteration\n",
    "    3. in place replacing using recursion\"\"\"\n",
    "\n",
    "def rev(it, l):\n",
    "    if it == len(l) // 2:\n",
    "        print(l)\n",
    "        return\n",
    "    else:\n",
    "        \n",
    "        l[it], l[len(l) - it - 1] = l[len(l) - it - 1], l[it]\n",
    "        rev(it + 1, l)\n",
    "if __name__ == \"__main__\":\n",
    "    l = list(map(int, input(\"Enter the list of numbers: \"). split()))\n",
    "    rev(0,l)"
   ]
  },
  {
   "cell_type": "code",
   "execution_count": 31,
   "id": "20df863d",
   "metadata": {},
   "outputs": [
    {
     "name": "stdout",
     "output_type": "stream",
     "text": [
      "Enter the number of fibonacci sequences: 10\n",
      "0\n",
      "1\n",
      "1\n",
      "2\n",
      "3\n",
      "5\n",
      "8\n",
      "13\n",
      "21\n",
      "34\n",
      "55\n"
     ]
    }
   ],
   "source": [
    "# Print the fibonacci sequence using Recursion\n",
    "\n",
    "# Simple Forward Approach\n",
    "\n",
    "def fibo(n1, n2, n):\n",
    "    if n1 == 0:\n",
    "        print(n1)\n",
    "    if n == 0:\n",
    "        return \n",
    "    else:\n",
    "        print(n2)\n",
    "        fibo(n2, n1 + n2, n - 1)\n",
    "\n",
    "if __name__ == \"__main__\":\n",
    "    n = int(input(\"Enter the number of fibonacci sequences: \"))\n",
    "    fibo(0,1,n)"
   ]
  },
  {
   "cell_type": "code",
   "execution_count": 35,
   "id": "28ccf48d",
   "metadata": {},
   "outputs": [
    {
     "name": "stdout",
     "output_type": "stream",
     "text": [
      "Enter the number of fibonacci sequences: 10\n",
      "55\n"
     ]
    }
   ],
   "source": [
    "# Print the Fibonacci Sequence for the given number\n",
    "\n",
    "# Backward Recursion Approach\n",
    "\n",
    "def fibo(n):\n",
    "    if n <= 1:\n",
    "        return n\n",
    "    else:\n",
    "        return (fibo(n - 1) + fibo(n - 2))\n",
    "\n",
    "if __name__ == \"__main__\":\n",
    "    n = int(input(\"Enter the number of fibonacci sequences: \"))\n",
    "    print(fibo(n))"
   ]
  },
  {
   "cell_type": "code",
   "execution_count": null,
   "id": "f39e38eb",
   "metadata": {},
   "outputs": [],
   "source": []
  }
 ],
 "metadata": {
  "kernelspec": {
   "display_name": "Python 3 (ipykernel)",
   "language": "python",
   "name": "python3"
  },
  "language_info": {
   "codemirror_mode": {
    "name": "ipython",
    "version": 3
   },
   "file_extension": ".py",
   "mimetype": "text/x-python",
   "name": "python",
   "nbconvert_exporter": "python",
   "pygments_lexer": "ipython3",
   "version": "3.11.4"
  }
 },
 "nbformat": 4,
 "nbformat_minor": 5
}

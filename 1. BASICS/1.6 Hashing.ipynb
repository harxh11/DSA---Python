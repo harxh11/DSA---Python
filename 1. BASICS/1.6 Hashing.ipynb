{
 "cells": [
  {
   "cell_type": "markdown",
   "id": "27ea8a06",
   "metadata": {},
   "source": [
    "# HASHING "
   ]
  },
  {
   "cell_type": "markdown",
   "id": "5d7b29dd",
   "metadata": {},
   "source": [
    "\n",
    "Notes:\n",
    "\n",
    "1. for storing characters, we might need the ASCII values, \n",
    "thus the python ord(\"a\") function helps us in calculating the ASCII values for the characters... \n",
    "\n"
   ]
  },
  {
   "cell_type": "code",
   "execution_count": 8,
   "id": "0166986e",
   "metadata": {},
   "outputs": [
    {
     "name": "stdout",
     "output_type": "stream",
     "text": [
      "The count for the element 1 is: 3\n",
      "The count for the element 2 is: 4\n",
      "The count for the element 3 is: 2\n",
      "The count for the element 4 is: 1\n",
      "The count for the element 5 is: 1\n"
     ]
    }
   ],
   "source": [
    "# Count the frequencies of each element in the array using Hashing\n",
    "\n",
    "\n",
    "\n",
    "    \n",
    "\n",
    "    \n",
    "    \n",
    "if __name__ == \"__main__\":\n",
    "#     array = list(map(int,input(\"Enter the array of elements: \").split()))\n",
    "    array = [1,2,3,4,5,3,2,1,2,2,1]\n",
    "    hashtable = []\n",
    "    \n",
    "    for i in range(max(array) + 1):\n",
    "        hashtable.append(0)\n",
    "    \n",
    "    for i in array:\n",
    "        hashtable[i] += 1\n",
    "      \n",
    "    for i in set(array):\n",
    "        print(f\"The count for the element {i} is: {hashtable[i]}\")\n",
    "\n"
   ]
  },
  {
   "cell_type": "code",
   "execution_count": null,
   "id": "504dbb91",
   "metadata": {},
   "outputs": [],
   "source": []
  }
 ],
 "metadata": {
  "kernelspec": {
   "display_name": "Python 3 (ipykernel)",
   "language": "python",
   "name": "python3"
  },
  "language_info": {
   "codemirror_mode": {
    "name": "ipython",
    "version": 3
   },
   "file_extension": ".py",
   "mimetype": "text/x-python",
   "name": "python",
   "nbconvert_exporter": "python",
   "pygments_lexer": "ipython3",
   "version": "3.11.4"
  }
 },
 "nbformat": 4,
 "nbformat_minor": 5
}

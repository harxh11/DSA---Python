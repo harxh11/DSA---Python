{
 "cells": [
  {
   "cell_type": "code",
   "execution_count": 6,
   "id": "9f859d7f",
   "metadata": {},
   "outputs": [
    {
     "name": "stdout",
     "output_type": "stream",
     "text": [
      "5\n",
      "4\n",
      "3\n",
      "2\n",
      "1\n"
     ]
    }
   ],
   "source": [
    "def printn(n):\n",
    "    if n == 0:\n",
    "        return\n",
    "    else:\n",
    "        print(n)\n",
    "        printn(n - 1)\n",
    "        \n",
    "printn(5)"
   ]
  },
  {
   "cell_type": "code",
   "execution_count": 13,
   "id": "9c049856",
   "metadata": {},
   "outputs": [
    {
     "name": "stdout",
     "output_type": "stream",
     "text": [
      "Enter a number: 5\n",
      "15\n"
     ]
    }
   ],
   "source": [
    "def Sum(ans, n):\n",
    "    if n == 0:\n",
    "        print(ans)\n",
    "        return\n",
    "    else:\n",
    "        \n",
    "        Sum(ans + n, n - 1)\n",
    "\n",
    "if __name__ == \"__main__\":\n",
    "    n = int(input(\"Enter a number: \"))\n",
    "    Sum(0, n)"
   ]
  },
  {
   "cell_type": "code",
   "execution_count": 7,
   "id": "0fd95105",
   "metadata": {},
   "outputs": [],
   "source": []
  },
  {
   "cell_type": "code",
   "execution_count": 12,
   "id": "71c5411b",
   "metadata": {},
   "outputs": [
    {
     "name": "stdout",
     "output_type": "stream",
     "text": [
      "{'b': 'b'}\n",
      "{'b': 'b', 'a': 'a'}\n",
      "{'b': 'd', 'a': 'a', 'd': 'b'}\n",
      "{'b': 'd', 'a': 'c', 'd': 'b', 'c': 'a'}\n",
      "True\n"
     ]
    }
   ],
   "source": [
    "s = \"badc\"\n",
    "t = \"baba\"\n",
    "\n",
    "dict1 = {}\n",
    "for i in range(len(s)):\n",
    "    if s[i] not in dict1.keys():\n",
    "        dict1[s[i]] = t[i]\n",
    "    else:\n",
    "        if dict1[s[i]] != t[i]:\n",
    "            print(\"False\")\n",
    "print(True)"
   ]
  },
  {
   "cell_type": "code",
   "execution_count": 19,
   "id": "78c2ef5c",
   "metadata": {},
   "outputs": [
    {
     "name": "stdout",
     "output_type": "stream",
     "text": [
      "{'a': 'a'}\n",
      "{'a': 'a', 'b': 'a'}\n",
      "True\n"
     ]
    }
   ],
   "source": [
    "s = 'ab'\n",
    "t = 'aa'\n",
    "a = []\n",
    "dict1 = {}\n",
    "print(dict1)\n",
    "for i in range(0,len(s)):\n",
    "    if s[i] not in dict1.keys():\n",
    "        if t[i] in a:\n",
    "            print(False, \"1\")\n",
    "        else:\n",
    "            dict1[s[i]] = t[i]\n",
    "            a.append(t[i])\n",
    "    else:\n",
    "        if dict1[s[i]] != t[i]:\n",
    "            print(False, \"2\")\n",
    "print(True)"
   ]
  },
  {
   "cell_type": "code",
   "execution_count": null,
   "id": "4c6f4551",
   "metadata": {},
   "outputs": [],
   "source": []
  }
 ],
 "metadata": {
  "kernelspec": {
   "display_name": "Python 3 (ipykernel)",
   "language": "python",
   "name": "python3"
  },
  "language_info": {
   "codemirror_mode": {
    "name": "ipython",
    "version": 3
   },
   "file_extension": ".py",
   "mimetype": "text/x-python",
   "name": "python",
   "nbconvert_exporter": "python",
   "pygments_lexer": "ipython3",
   "version": "3.11.4"
  }
 },
 "nbformat": 4,
 "nbformat_minor": 5
}

{
 "cells": [
  {
   "cell_type": "code",
   "execution_count": 18,
   "id": "7e275e06",
   "metadata": {},
   "outputs": [
    {
     "name": "stdout",
     "output_type": "stream",
     "text": [
      "[1]\n",
      "[1, 1]\n",
      "[1, 2, 1]\n",
      "[1, 3, 3, 1]\n",
      "[1, 4, 6, 4, 1]\n",
      "[1, 5, 10, 10, 5, 1]\n",
      "[1, 6, 15, 20, 15, 6, 1]\n",
      "[1, 7, 21, 35, 35, 21, 7, 1]\n",
      "[1, 8, 28, 56, 70, 56, 28, 8, 1]\n",
      "[1, 9, 36, 84, 126, 126, 84, 36, 9, 1]\n"
     ]
    }
   ],
   "source": [
    "# Pascals Triangle\n",
    "\"\"\" LLETCODE Q-118 EASY \"\"\"\n",
    "\n",
    "pascal = [[1], [1,1]]\n",
    "numRows = 10\n",
    "\n",
    "if numRows <= 1:\n",
    "    print(pascal[0])\n",
    "\n",
    "elif numRows == 2:\n",
    "    print(pascal)\n",
    "    \n",
    "else:\n",
    "    numRows = numRows - 2\n",
    "    for i in range(numRows):\n",
    "        pre = pascal[len(pascal) - 1]\n",
    "        row = [1]\n",
    "        for j in range(i + 1):\n",
    "            row.append(pre[j] + pre[j + 1])\n",
    "        row.append(1)\n",
    "        pascal.append(row)\n",
    "    for i in pascal:\n",
    "        print(i)"
   ]
  },
  {
   "cell_type": "code",
   "execution_count": null,
   "id": "bd149dfa",
   "metadata": {},
   "outputs": [],
   "source": []
  }
 ],
 "metadata": {
  "kernelspec": {
   "display_name": "Python 3 (ipykernel)",
   "language": "python",
   "name": "python3"
  },
  "language_info": {
   "codemirror_mode": {
    "name": "ipython",
    "version": 3
   },
   "file_extension": ".py",
   "mimetype": "text/x-python",
   "name": "python",
   "nbconvert_exporter": "python",
   "pygments_lexer": "ipython3",
   "version": "3.11.4"
  }
 },
 "nbformat": 4,
 "nbformat_minor": 5
}

{
 "cells": [
  {
   "cell_type": "code",
   "execution_count": 26,
   "id": "8e9db462",
   "metadata": {},
   "outputs": [
    {
     "name": "stdout",
     "output_type": "stream",
     "text": [
      "False\n"
     ]
    }
   ],
   "source": [
    "a = [5,6,7,1,5,3,4]\n",
    "n = 5\n",
    "ans = True\n",
    "\n",
    "ans2 = False;\n",
    "for j in range(len(a)):\n",
    "    n = j\n",
    "    ans = True\n",
    "    for i in range(len(a) - 1):    \n",
    "        if n == len(a) - 1:\n",
    "            if a[n] > a[0]:\n",
    "                ans = False\n",
    "                break\n",
    "            else:\n",
    "                n = 0\n",
    "\n",
    "        else:\n",
    "            if a[n] > a[n + 1]:\n",
    "                ans = False\n",
    "                break\n",
    "            else:\n",
    "                n += 1\n",
    "                \n",
    "    if ans == True:\n",
    "        ans2 = True\n",
    "    \n",
    "print(ans2)"
   ]
  },
  {
   "cell_type": "code",
   "execution_count": null,
   "id": "c97d7fa5",
   "metadata": {},
   "outputs": [],
   "source": [
    "# Rotate an array: \n",
    "\n"
   ]
  }
 ],
 "metadata": {
  "kernelspec": {
   "display_name": "Python 3 (ipykernel)",
   "language": "python",
   "name": "python3"
  },
  "language_info": {
   "codemirror_mode": {
    "name": "ipython",
    "version": 3
   },
   "file_extension": ".py",
   "mimetype": "text/x-python",
   "name": "python",
   "nbconvert_exporter": "python",
   "pygments_lexer": "ipython3",
   "version": "3.11.4"
  }
 },
 "nbformat": 4,
 "nbformat_minor": 5
}

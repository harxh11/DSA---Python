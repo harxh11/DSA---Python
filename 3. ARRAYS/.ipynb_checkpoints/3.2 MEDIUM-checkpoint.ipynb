{
 "cells": [
  {
   "cell_type": "code",
   "execution_count": 1,
   "id": "3069ed74",
   "metadata": {},
   "outputs": [],
   "source": [
    "# Sort Colors\n",
    "\"\"\" LEETCODE Q-75 MEDIUM \"\"\"\n",
    "\n",
    "class Solution(object):\n",
    "    def sortColors(self, nums):\n",
    "        r = w = b = 0\n",
    "        for i in nums:\n",
    "            if i == 0:\n",
    "                r += 1\n",
    "            elif i == 1:\n",
    "                w += 1\n",
    "            else:\n",
    "                b += 1\n",
    "            \n",
    "        for i in range(r):\n",
    "            nums[i] = 0\n",
    "        for i in range(r, r + w):\n",
    "            nums[i] = 1\n",
    "        for i in range(r + w, r + w + b):\n",
    "            nums[i] = 2\n",
    "        "
   ]
  },
  {
   "cell_type": "code",
   "execution_count": 2,
   "id": "7e329c27",
   "metadata": {},
   "outputs": [],
   "source": [
    "# Majority Element\n",
    "\"\"\" LEETCODE Q-169 EASY \"\"\"\n",
    "\n",
    "class Solution(object):\n",
    "    def majorityElement(self, nums):\n",
    "        h = {}\n",
    "        if len(nums) == 1:\n",
    "            return nums[0]\n",
    "        else:\n",
    "            for i in nums:\n",
    "                if i in h:\n",
    "                    h[i] += 1\n",
    "                    if h[i] > len(nums) // 2:\n",
    "                        return i\n",
    "                else:\n",
    "                    h[i] = 1"
   ]
  },
  {
   "cell_type": "code",
   "execution_count": 1,
   "id": "0e34c84d",
   "metadata": {},
   "outputs": [],
   "source": [
    "# KADANE's ALGORITHM\n",
    "\"\"\"----------------------------------------------V.V.V IMP----------------------------------------------------------------\"\"\"\n",
    "\"\"\" LEETCODE Q-53 MEDIUM \"\"\"\n",
    "\n",
    "# Approach - Two pointers\n",
    "\n",
    "class Solution(object):\n",
    "    def maxSubArray(self, nums):\n",
    "        sum1 = 0\n",
    "        max1 = nums[0]\n",
    "        ans = []\n",
    "        i = j = 0\n",
    "        while j < len(nums):\n",
    "            sum1 += nums[j]\n",
    "            if sum1 > max1:\n",
    "                max1 = sum1\n",
    "                ans = nums[i:j]\n",
    "            \n",
    "            if sum1 < 0:\n",
    "                sum1 = 0\n",
    "                i += 1\n",
    "            \n",
    "            j += 1\n",
    "        return max1"
   ]
  },
  {
   "cell_type": "code",
   "execution_count": 1,
   "id": "114668b7",
   "metadata": {},
   "outputs": [],
   "source": [
    "# Stock Buy and Sell\n",
    "\"\"\" LEETCODE Q-121 EASY \"\"\"\n",
    "\n",
    "# Approach --> two pointer (min) approach..\n",
    "\n",
    "\n",
    "\n",
    "class Solution(object):\n",
    "    def maxSubArray(self, nums):\n",
    "        sum1 = 0\n",
    "        max1 = nums[0]\n",
    "        ans = []\n",
    "        i = j = 0\n",
    "        while j < len(nums):\n",
    "            sum1 += nums[j]\n",
    "            if sum1 > max1:\n",
    "                max1 = sum1\n",
    "                ans = nums[i:j]\n",
    "            \n",
    "            if sum1 < 0:\n",
    "                sum1 = 0\n",
    "                i += 1\n",
    "            \n",
    "            j += 1\n",
    "        return max1"
   ]
  },
  {
   "cell_type": "code",
   "execution_count": 3,
   "id": "d4d8c309",
   "metadata": {},
   "outputs": [],
   "source": [
    "# Rearrange array elements by Sign\n",
    "\"\"\" LEETCODE Q-2149 MEDIUM \"\"\"\n",
    "\n",
    "\n",
    "# NAIVE APPROACH - not optimized\n",
    "class Solution(object):\n",
    "    def rearrangeArray(self, nums):\n",
    "        pos = []\n",
    "        neg = []\n",
    "        for i in nums:\n",
    "            if i < 0:\n",
    "                pos.append(i)\n",
    "            else:\n",
    "                neg.append(i)\n",
    "        ans = []\n",
    "        for i in range(len(pos)):\n",
    "            ans.append(neg[i])\n",
    "            ans.append(pos[i])\n",
    "        \n",
    "        return ans"
   ]
  },
  {
   "cell_type": "code",
   "execution_count": 13,
   "id": "d0dccf14",
   "metadata": {},
   "outputs": [
    {
     "name": "stdout",
     "output_type": "stream",
     "text": [
      "120\n"
     ]
    }
   ],
   "source": [
    "# All possible Permutations of an Array\n",
    "\n",
    "def permut(index, arr1, ans):\n",
    "    if index == len(arr1):\n",
    "        ans.append(arr1)\n",
    "        return\n",
    "    \n",
    "    for i in range(index, len(arr)):\n",
    "        arr1[i], arr1[index] = arr1[index], arr1[i]\n",
    "        permut(index + 1, arr1, ans)\n",
    "        arr1[i], arr1[index] = arr1[index], arr1[i]\n",
    "\n",
    "\n",
    "\n",
    "arr = [1,2,3,4,5]\n",
    "ans = []\n",
    "permut(0, arr, ans)\n",
    "print(len(ans))"
   ]
  },
  {
   "cell_type": "code",
   "execution_count": 17,
   "id": "5530fa91",
   "metadata": {},
   "outputs": [
    {
     "name": "stdout",
     "output_type": "stream",
     "text": [
      "[6, 12, 22]\n"
     ]
    }
   ],
   "source": [
    "# Print all the Leaders in the array\n",
    "\n",
    "# approach: one pointer called max, check for max, if greater than max, it is a leader, else pointer --\n",
    "\n",
    "arr = [10, 22, 12, 3, 0, 6]\n",
    "\n",
    "max1 = arr[-1]\n",
    "i = len(arr) - 2\n",
    "ans = [max1]\n",
    "while i >= 0:\n",
    "    if arr[i] > max1:\n",
    "        max1 = arr[i]\n",
    "        ans.append(arr[i])\n",
    "        i -= 1\n",
    "    else:\n",
    "        i -= 1\n",
    "print(ans)"
   ]
  },
  {
   "cell_type": "code",
   "execution_count": 18,
   "id": "8d5d6f71",
   "metadata": {},
   "outputs": [],
   "source": [
    "# Set Matrix Zeroes\n",
    "\n",
    "\"\"\" LEETCODE Q-73 MEDIUM \"\"\"\n",
    "\n",
    "# Approach - NAIVE\n",
    "\n",
    "class Solution(object):\n",
    "    def setZeroes(self, matrix):\n",
    "        arr_i = []\n",
    "        arr_j = []\n",
    "\n",
    "        for i in range(len(matrix)):\n",
    "            for j in range(len(matrix[0])):\n",
    "                if matrix[i][j] == 0:\n",
    "                    arr_i.append(i)\n",
    "                    arr_j.append(j)\n",
    "        \n",
    "        for i in range(len(matrix)):\n",
    "            if i in arr_i:\n",
    "                for a in range(len(matrix[0])):\n",
    "                    matrix[i][a] = 0\n",
    "            for j in range(len(matrix[0])):\n",
    "                if j in arr_j:\n",
    "                    matrix[i][j] = 0"
   ]
  },
  {
   "cell_type": "code",
   "execution_count": 30,
   "id": "3e5c2b7c",
   "metadata": {},
   "outputs": [
    {
     "name": "stdout",
     "output_type": "stream",
     "text": [
      "[[7, 4, 1], [8, 5, 2], [9, 6, 3]]\n"
     ]
    }
   ],
   "source": [
    "# Rotate matrix by 90deg\n",
    "\n",
    "\"\"\" LEETCODE Q-48 MEDIUM \"\"\"\n",
    "\n",
    "matrix = [[1,2,3],[4,5,6],[7,8,9]]\n",
    "ans = []\n",
    "\n",
    "for i in range(len(matrix)):\n",
    "    ans.append([0] * len(matrix[0]))\n",
    "\n",
    "for i in range(len(matrix)):\n",
    "    for j in range(len(matrix[0])):\n",
    "        ans[i][j] = matrix[len(matrix) - j - 1][i]\n",
    "print(ans)"
   ]
  },
  {
   "cell_type": "code",
   "execution_count": 45,
   "id": "8c9c2684",
   "metadata": {},
   "outputs": [
    {
     "name": "stdout",
     "output_type": "stream",
     "text": [
      "0 0 0\n",
      "-1 0 0\n",
      "-2 0 0\n",
      "-1 0 0\n"
     ]
    },
    {
     "ename": "IndexError",
     "evalue": "list index out of range",
     "output_type": "error",
     "traceback": [
      "\u001b[1;31m---------------------------------------------------------------------------\u001b[0m",
      "\u001b[1;31mIndexError\u001b[0m                                Traceback (most recent call last)",
      "Cell \u001b[1;32mIn[45], line 10\u001b[0m\n\u001b[0;32m      8\u001b[0m \u001b[38;5;28;01mwhile\u001b[39;00m j \u001b[38;5;241m<\u001b[39m \u001b[38;5;28mlen\u001b[39m(nums) \u001b[38;5;129;01mor\u001b[39;00m i \u001b[38;5;241m<\u001b[39m \u001b[38;5;28mlen\u001b[39m(nums):\n\u001b[0;32m      9\u001b[0m     \u001b[38;5;28mprint\u001b[39m(sum1, i, ans)\n\u001b[1;32m---> 10\u001b[0m     sum1 \u001b[38;5;241m+\u001b[39m\u001b[38;5;241m=\u001b[39m \u001b[43mnums\u001b[49m\u001b[43m[\u001b[49m\u001b[43mj\u001b[49m\u001b[43m]\u001b[49m\n\u001b[0;32m     11\u001b[0m     \u001b[38;5;28;01mif\u001b[39;00m sum1 \u001b[38;5;241m==\u001b[39m k:\n\u001b[0;32m     12\u001b[0m         ans \u001b[38;5;241m+\u001b[39m\u001b[38;5;241m=\u001b[39m \u001b[38;5;241m1\u001b[39m\n",
      "\u001b[1;31mIndexError\u001b[0m: list index out of range"
     ]
    }
   ],
   "source": [
    "# Subarray Sum equals K\n",
    "\n",
    "\"\"\" LEETCODE Q- MEDIUM \"\"\"\n",
    "# Approach --> 2 Pointers\n",
    "\n",
    "nums = [-1, -1, 1]\n",
    "k = 0\n",
    "\n",
    "i = j = 0\n",
    "sum1 = 0\n",
    "ans = 0\n",
    "\n",
    "while j < len(nums):\n",
    "    print(sum1, i, ans)\n",
    "    sum1 += nums[j]\n",
    "    \n",
    "    if sum1 == k:\n",
    "        ans += 1\n",
    "        i += 1\n",
    "        j = i\n",
    "        sum1 = 0\n",
    "    elif sum1 < k:\n",
    "        j += 1\n",
    "    else:\n",
    "        i += 1\n",
    "        j = i\n",
    "        sum1 = 0\n",
    "print(ans)"
   ]
  },
  {
   "cell_type": "code",
   "execution_count": null,
   "id": "39cfd5d2",
   "metadata": {},
   "outputs": [],
   "source": []
  }
 ],
 "metadata": {
  "kernelspec": {
   "display_name": "Python 3 (ipykernel)",
   "language": "python",
   "name": "python3"
  },
  "language_info": {
   "codemirror_mode": {
    "name": "ipython",
    "version": 3
   },
   "file_extension": ".py",
   "mimetype": "text/x-python",
   "name": "python",
   "nbconvert_exporter": "python",
   "pygments_lexer": "ipython3",
   "version": "3.11.4"
  }
 },
 "nbformat": 4,
 "nbformat_minor": 5
}

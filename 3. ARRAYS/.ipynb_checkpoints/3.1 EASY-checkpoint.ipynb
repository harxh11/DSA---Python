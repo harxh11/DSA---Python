{
 "cells": [
  {
   "cell_type": "markdown",
   "id": "3943e442",
   "metadata": {},
   "source": [
    "# EASY"
   ]
  },
  {
   "cell_type": "code",
   "execution_count": null,
   "id": "ad1f9887",
   "metadata": {},
   "outputs": [],
   "source": [
    "\"\"\"\n",
    "APPROACHES TO AN ARRAY QUESTION\n",
    "\n",
    "1. HASHING  --> mostly gives O(N) time complexity...\n",
    "2. XOR  -->  V.V. IMP. and effective\n",
    "3. Pointers\n",
    "4. Sorting\n",
    "5. Sum of n integers\n",
    "\n",
    "\"\"\""
   ]
  },
  {
   "cell_type": "code",
   "execution_count": 1,
   "id": "3e486ef2",
   "metadata": {},
   "outputs": [
    {
     "name": "stdout",
     "output_type": "stream",
     "text": [
      "False\n"
     ]
    }
   ],
   "source": [
    "# 3. Check if Array sorted :\n",
    "\"\"\" LEETCODE Q-1752. MEDIUM \"\"\"\n",
    "\n",
    "a = [5,6,7,1,5,3,4]\n",
    "n = 5\n",
    "ans = True\n",
    "\n",
    "ans2 = False;\n",
    "for j in range(len(a)):\n",
    "    n = j\n",
    "    ans = True\n",
    "    for i in range(len(a) - 1):    \n",
    "        if n == len(a) - 1:\n",
    "            if a[n] > a[0]:\n",
    "                ans = False\n",
    "                break\n",
    "            else:\n",
    "                n = 0\n",
    "\n",
    "        else:\n",
    "            if a[n] > a[n + 1]:\n",
    "                ans = False\n",
    "                break\n",
    "            else:\n",
    "                n += 1\n",
    "                \n",
    "    if ans == True:\n",
    "        ans2 = True\n",
    "    \n",
    "print(ans2)"
   ]
  },
  {
   "cell_type": "code",
   "execution_count": 18,
   "id": "029cdf0f",
   "metadata": {},
   "outputs": [
    {
     "name": "stdout",
     "output_type": "stream",
     "text": [
      "[5, 1, 2, 3, 4]\n"
     ]
    }
   ],
   "source": [
    "# Rotate an Array\n",
    "\"\"\"LEETCODE Q-189 MEDIUM\"\"\"\n",
    "# There are many approaches to solve this particular problem.. using reversing, hashing, temporary array.\n",
    "# two of them are written here, the most optimized approach is by using reversing\n",
    "\n",
    "\n",
    "\n",
    "arr = [1,2,3,4,5]\n",
    "\n",
    "ans = []\n",
    "k = 1111\n",
    "k = k % 5\n",
    "if k == 0:\n",
    "    print(arr)\n",
    "else:\n",
    "    it = len(arr) - k\n",
    "    for i in range(len(arr)):\n",
    "        if it == len(arr) - 1:\n",
    "            ans.append(arr[it])\n",
    "            it = 0\n",
    "        else:\n",
    "            ans.append(arr[it])\n",
    "            it += 1\n",
    "    print(ans)\n",
    "            "
   ]
  },
  {
   "cell_type": "code",
   "execution_count": 18,
   "id": "d719e16e",
   "metadata": {},
   "outputs": [
    {
     "name": "stdout",
     "output_type": "stream",
     "text": [
      "[2, 3, 4, 5, 1]\n"
     ]
    }
   ],
   "source": [
    "# Rotate an Array\n",
    "\"\"\"LEETCODE Q-189 MEDIUM\"\"\"\n",
    "# in-place approach\n",
    "# using HASHING i.e. Hash Table to store the index values of the array, for further changin the order by rotation..\n",
    "\n",
    "\n",
    "arr = [1,2,3,4,5]\n",
    "r = 4\n",
    "r = r%len(arr)\n",
    "\n",
    "if r == 0:\n",
    "    print(arr)\n",
    "else:\n",
    "    dict1 = {}\n",
    "    for i in range(len(arr)):\n",
    "        dict1[i] = arr[i]\n",
    "\n",
    "    for i in range(r):\n",
    "        arr[i] = dict1[len(arr) - r + i]\n",
    "    \n",
    "    for i in range(r, len(arr)):\n",
    "        arr[i] = dict1[i - r]\n",
    "    print(arr)"
   ]
  },
  {
   "cell_type": "code",
   "execution_count": null,
   "id": "587ad8d9",
   "metadata": {},
   "outputs": [],
   "source": [
    "# Move all Zeroes to the end\n",
    "\"\"\" LEETCODE Q-283. EASY \"\"\"\n",
    "\n",
    "# Approach - using two pointers, one for tracking zeroes, whereas the other for replacement of the zero and the non-zero number.\n",
    "\n",
    "arr = [0,1,0]\n",
    "\n",
    "i = j = len(arr) - 1\n",
    "\n",
    "while i >= 0 or j >= 0:\n",
    "    print(i, j)\n",
    "    if arr[i] == 0 and arr[j] != 0:\n",
    "        print(i, j, \"yes\")\n",
    "        if i < j:\n",
    "            temp = arr[i]\n",
    "            for it in range(i, j):\n",
    "                arr[it] = arr[it + 1]\n",
    "            arr[j] = temp\n",
    "        i -= 1\n",
    "        j -= 1\n",
    "\n",
    "    else:\n",
    "        if arr[i] != 0:\n",
    "            i -= 1\n",
    "        if arr[j] == 0:\n",
    "            j -= 1\n",
    "\n",
    "print(arr)"
   ]
  },
  {
   "cell_type": "code",
   "execution_count": 3,
   "id": "83418533",
   "metadata": {},
   "outputs": [
    {
     "name": "stdout",
     "output_type": "stream",
     "text": [
      "8\n"
     ]
    }
   ],
   "source": [
    "# Missing Number\n",
    "\"\"\" LEETCODE Q-268 EASY\"\"\"\n",
    "\n",
    "\"\"\" IMPORTANT \"\"\"\n",
    "# APPROACH - we know the sum of first n integers is N(N+1)/2,\n",
    "#             calculate the sum of given integers ans subtract it from the total sum.\n",
    "#             thus, answer achieved is the missing integer.\n",
    "\n",
    "arr = [9,6,4,2,3,5,7,0,1]\n",
    "t = len(arr)*(len(arr) + 1)//2\n",
    "s = sum(arr)\n",
    "print(t-s)\n",
    "\n"
   ]
  },
  {
   "cell_type": "code",
   "execution_count": null,
   "id": "bba7584f",
   "metadata": {},
   "outputs": [],
   "source": [
    "# Missing Number\n",
    "\"\"\" LEETCODE Q-268 EASY\"\"\"\n",
    "# --------------------------------------------------------------------------------\n",
    "\n",
    "# APPROACH - XOR\n",
    "#            XOR basically has 2 properties: \n",
    "#              1. XOR of the same number with itself will result in 0  -- IMP\n",
    "#              2. XOR of a number with 0 will result in number itself\n",
    "\n",
    "#         Thus, in our question we will calculate the XOR of all numbers from 1 - n\n",
    "#                and then XOR of our array, then we will XOR both the XOR's\n",
    "#                thus the XOR of all numbers in both arrays will result in 0... except for the missing number.... tada....\n",
    "# ---------------------------------------------------------------------------------\n",
    "\n"
   ]
  },
  {
   "cell_type": "code",
   "execution_count": 5,
   "id": "17c95615",
   "metadata": {},
   "outputs": [
    {
     "name": "stdout",
     "output_type": "stream",
     "text": [
      "7\n"
     ]
    }
   ],
   "source": [
    "# Maximum Consecutive One's\n",
    "\"\"\" LEETCODE Q-485 EASY\"\"\"\n",
    "\n",
    "arr = [0,1,1,1,1,0,0,0,0,1,1,1,1,1,1,1,0]\n",
    "m = 0\n",
    "it = 0\n",
    "\n",
    "for i in arr:\n",
    "    if i == 1:\n",
    "        it += 1\n",
    "    else:\n",
    "        it = 0\n",
    "    \n",
    "    if it > m:\n",
    "        m = it\n",
    "print(m)"
   ]
  },
  {
   "cell_type": "code",
   "execution_count": 7,
   "id": "feace373",
   "metadata": {},
   "outputs": [
    {
     "name": "stdout",
     "output_type": "stream",
     "text": [
      "1\n"
     ]
    }
   ],
   "source": [
    "# Single Number\n",
    "\"\"\"LEETCODE Q-136 EASY\"\"\"\n",
    "\n",
    "a = [2,2,3,5,4,4,5,1,3]\n",
    "xor = a[0]\n",
    "\n",
    "for i in a[1:]:\n",
    "    xor = xor ^ i\n",
    "print(xor)"
   ]
  },
  {
   "cell_type": "code",
   "execution_count": null,
   "id": "d96d3104",
   "metadata": {},
   "outputs": [],
   "source": []
  }
 ],
 "metadata": {
  "kernelspec": {
   "display_name": "Python 3 (ipykernel)",
   "language": "python",
   "name": "python3"
  },
  "language_info": {
   "codemirror_mode": {
    "name": "ipython",
    "version": 3
   },
   "file_extension": ".py",
   "mimetype": "text/x-python",
   "name": "python",
   "nbconvert_exporter": "python",
   "pygments_lexer": "ipython3",
   "version": "3.11.4"
  }
 },
 "nbformat": 4,
 "nbformat_minor": 5
}
